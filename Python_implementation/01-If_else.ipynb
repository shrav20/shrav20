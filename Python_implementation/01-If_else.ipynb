{
 "cells": [
  {
   "cell_type": "markdown",
   "id": "4e0b4849",
   "metadata": {},
   "source": [
    "# If Else ,Elif\n",
    " if case1:\n",
    " \n",
    "    perform action1\n",
    "elif case2:\n",
    "\n",
    "    perform action2\n",
    "else: \n",
    "\n",
    "    perform action3"
   ]
  },
  {
   "cell_type": "code",
   "execution_count": 2,
   "id": "1bc88c05",
   "metadata": {},
   "outputs": [
    {
     "name": "stdout",
     "output_type": "stream",
     "text": [
      "It will be printed in any case where x is not true\n"
     ]
    }
   ],
   "source": [
    "x = False\n",
    "\n",
    "if x:\n",
    "    print('x was True!')\n",
    "else:\n",
    "    print('It will be printed in any case where x is not true')"
   ]
  },
  {
   "cell_type": "markdown",
   "id": "c4ad0ed8",
   "metadata": {},
   "source": [
    "We write this out in a nested structure. Take note of how the if, elif, and else line up in the code. This will help us to see what if is related to what elif or else statements."
   ]
  },
  {
   "cell_type": "code",
   "execution_count": 4,
   "id": "3db13490",
   "metadata": {},
   "outputs": [
    {
     "name": "stdout",
     "output_type": "stream",
     "text": [
      "hi i am in 3rd year\n"
     ]
    }
   ],
   "source": [
    "#example of if and elif\n",
    "y='3rd Year'\n",
    "if y=='2nd Year':\n",
    "    print(\"hi i am in 2nd Year\")\n",
    "elif y=='3rd Year':\n",
    "    print(\"hi i am in 3rd year\")\n",
    "else:\n",
    "    print(\"Ooppss!!\")"
   ]
  },
  {
   "cell_type": "code",
   "execution_count": null,
   "id": "7994d26b",
   "metadata": {},
   "outputs": [],
   "source": []
  }
 ],
 "metadata": {
  "kernelspec": {
   "display_name": "Python 3",
   "language": "python",
   "name": "python3"
  },
  "language_info": {
   "codemirror_mode": {
    "name": "ipython",
    "version": 3
   },
   "file_extension": ".py",
   "mimetype": "text/x-python",
   "name": "python",
   "nbconvert_exporter": "python",
   "pygments_lexer": "ipython3",
   "version": "3.8.8"
  }
 },
 "nbformat": 4,
 "nbformat_minor": 5
}
