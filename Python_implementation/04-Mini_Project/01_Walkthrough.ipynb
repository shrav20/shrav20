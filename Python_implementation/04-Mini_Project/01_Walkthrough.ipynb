{
 "cells": [
  {
   "cell_type": "markdown",
   "id": "1bc7dcce",
   "metadata": {},
   "source": [
    "##### Step 1: Write a function that can print out a board. Set up your board as a list, where each index 1-9 corresponds with a number on a number pad, so you get a 3 by 3 board representation."
   ]
  },
  {
   "cell_type": "code",
   "execution_count": 1,
   "id": "8015cdd4",
   "metadata": {},
   "outputs": [],
   "source": [
    "from IPython.display import clear_output\n",
    "\n",
    "def display_board(board):\n",
    "    \n",
    "    print(board[7]+\"|\"+board[8]+\"|\"+board[9])\n",
    "    print(board[4]+\"|\"+board[5]+\"|\"+board[6])    \n",
    "    print(board[1]+\"|\"+board[2]+\"|\"+board[3])"
   ]
  },
  {
   "cell_type": "code",
   "execution_count": 2,
   "id": "129cc11e",
   "metadata": {},
   "outputs": [],
   "source": [
    "#TEST Step 1: run your function on a test version of the board list, and make adjustments as necessary"
   ]
  },
  {
   "cell_type": "code",
   "execution_count": 3,
   "id": "0e39d496",
   "metadata": {},
   "outputs": [
    {
     "name": "stdout",
     "output_type": "stream",
     "text": [
      "X|O|X\n",
      "O|X|O\n",
      "X|O|X\n"
     ]
    }
   ],
   "source": [
    "test_board = ['#','X','O','X','O','X','O','X','O','X']\n",
    "display_board(test_board)"
   ]
  },
  {
   "cell_type": "code",
   "execution_count": 4,
   "id": "9bb698b2",
   "metadata": {},
   "outputs": [
    {
     "name": "stdout",
     "output_type": "stream",
     "text": [
      "X|O|X\n",
      "O|X|O\n",
      "X|O|X\n",
      "X|O|X\n",
      "O|X|O\n",
      "X|O|X\n"
     ]
    }
   ],
   "source": [
    "test_board = ['#','X','O','X','O','X','O','X','O','X']\n",
    "display_board(test_board)\n",
    "display_board(test_board) #displays the tic tac toe 2 times hence use clear_output"
   ]
  },
  {
   "cell_type": "code",
   "execution_count": 5,
   "id": "6967ae8f",
   "metadata": {},
   "outputs": [],
   "source": [
    "from IPython.display import clear_output\n",
    "\n",
    "def display_board(board):\n",
    "    clear_output()\n",
    "    print(board[7]+\"|\"+board[8]+\"|\"+board[9])\n",
    "    print(board[4]+\"|\"+board[5]+\"|\"+board[6])    \n",
    "    print(board[1]+\"|\"+board[2]+\"|\"+board[3])"
   ]
  },
  {
   "cell_type": "code",
   "execution_count": 6,
   "id": "e6fd0e97",
   "metadata": {},
   "outputs": [
    {
     "name": "stdout",
     "output_type": "stream",
     "text": [
      "X|O|X\n",
      "O|X|O\n",
      "X|O|X\n"
     ]
    }
   ],
   "source": [
    "test_board = ['#','X','O','X','O','X','O','X','O','X']\n",
    "display_board(test_board)\n",
    "display_board(test_board) "
   ]
  },
  {
   "cell_type": "markdown",
   "id": "238cdf5c",
   "metadata": {},
   "source": [
    "##### Step2:-Write a function that can take in a player input and assign their marker as 'X' or 'O'. Think about using while loops to continually ask until you get a correct answer."
   ]
  },
  {
   "cell_type": "code",
   "execution_count": 28,
   "id": "e52523b8",
   "metadata": {},
   "outputs": [],
   "source": [
    "def player_input():\n",
    "    marker = \" \"\n",
    "    while marker not in [\"X\",\"O\"]:\n",
    "        marker=input(\"Enter a valid marker i.e X or O:\").upper()\n",
    "    if marker=='X':\n",
    "        return ('X','O')\n",
    "    else:\n",
    "        return ('O','X')"
   ]
  },
  {
   "cell_type": "code",
   "execution_count": 29,
   "id": "16603f64",
   "metadata": {},
   "outputs": [
    {
     "name": "stdout",
     "output_type": "stream",
     "text": [
      "Enter a valid marker i.e X or O:X\n"
     ]
    },
    {
     "data": {
      "text/plain": [
       "('X', 'O')"
      ]
     },
     "execution_count": 29,
     "metadata": {},
     "output_type": "execute_result"
    }
   ],
   "source": [
    "player_input()"
   ]
  },
  {
   "cell_type": "markdown",
   "id": "b6c10b7a",
   "metadata": {},
   "source": [
    "#### Step 3: Write a function that takes in the board list object, a marker ('X' or 'O'), and a desired position (number 1-9) and assigns it to the board."
   ]
  },
  {
   "cell_type": "code",
   "execution_count": 9,
   "id": "ce100a77",
   "metadata": {},
   "outputs": [],
   "source": [
    "def place_marker(board,marker,position):\n",
    "    board[position]=marker"
   ]
  },
  {
   "cell_type": "code",
   "execution_count": 10,
   "id": "f3fb0461",
   "metadata": {},
   "outputs": [
    {
     "name": "stdout",
     "output_type": "stream",
     "text": [
      "X|$|X\n",
      "O|X|O\n",
      "X|O|X\n"
     ]
    }
   ],
   "source": [
    "place_marker(test_board,'$',8)\n",
    "display_board(test_board)"
   ]
  },
  {
   "cell_type": "markdown",
   "id": "a1f9693c",
   "metadata": {},
   "source": [
    "#### Step 4: Write a function that takes in a board and a mark (X or O) and then checks to see if that mark has won."
   ]
  },
  {
   "cell_type": "code",
   "execution_count": 11,
   "id": "51739d2b",
   "metadata": {},
   "outputs": [],
   "source": [
    "def win_check(board, mark):\n",
    "    \n",
    "    return ((board[1]==board[2]==board[3]==mark) or #checks for bottom row\n",
    "            (board[4]==board[5]==board[6]==mark) or #checks for middle row\n",
    "            (board[7]==board[8]==board[9]==mark) or #checks for top row\n",
    "            (board[1]==board[4]==board[7]==mark) or #cchecks for 1st column\n",
    "            (board[2]==board[5]==board[8]==mark) or #checks for 2nd column\n",
    "            (board[3]==board[6]==board[9]==mark) or #checks for 3rd column\n",
    "            (board[7]==board[5]==board[3]==mark) or #checks for diagonal\n",
    "            (board[9]==board[5]==board[1]==mark)) #diagonal"
   ]
  },
  {
   "cell_type": "code",
   "execution_count": 12,
   "id": "34640569",
   "metadata": {},
   "outputs": [
    {
     "data": {
      "text/plain": [
       "True"
      ]
     },
     "execution_count": 12,
     "metadata": {},
     "output_type": "execute_result"
    }
   ],
   "source": [
    "#since the diagonl have X in proper sequence hence X wins\n",
    "win_check(test_board,'X')"
   ]
  },
  {
   "cell_type": "markdown",
   "id": "05f4ff75",
   "metadata": {},
   "source": [
    "#### Step 5: Write a function that uses the random module to randomly decide which player goes first. You may want to lookup random.randint() Return a string of which player went first."
   ]
  },
  {
   "cell_type": "code",
   "execution_count": 13,
   "id": "8ad15854",
   "metadata": {},
   "outputs": [],
   "source": [
    "import random\n",
    "\n",
    "def choose_first():\n",
    "    if random.randint(0,1)==0:\n",
    "        return 'Player 2'\n",
    "    else:\n",
    "        return 'Player 1'"
   ]
  },
  {
   "cell_type": "code",
   "execution_count": 35,
   "id": "1382b8e1",
   "metadata": {},
   "outputs": [
    {
     "data": {
      "text/plain": [
       "'Player 1'"
      ]
     },
     "execution_count": 35,
     "metadata": {},
     "output_type": "execute_result"
    }
   ],
   "source": [
    "choose_first()"
   ]
  },
  {
   "cell_type": "markdown",
   "id": "c59298ca",
   "metadata": {},
   "source": [
    "#### Step 6: Write a function that returns a boolean indicating whether a space on the board is freely available."
   ]
  },
  {
   "cell_type": "code",
   "execution_count": 14,
   "id": "06a864c9",
   "metadata": {},
   "outputs": [],
   "source": [
    "def space_check(board, position):\n",
    "    \n",
    "    return board[position] == ' '"
   ]
  },
  {
   "cell_type": "code",
   "execution_count": 17,
   "id": "b08b8972",
   "metadata": {},
   "outputs": [
    {
     "name": "stdout",
     "output_type": "stream",
     "text": [
      "X|$|X\n",
      "O|X|O\n",
      "X|O|X\n"
     ]
    }
   ],
   "source": [
    "space_check(test_board,2) #ans is False\n",
    "display_board(test_board)"
   ]
  },
  {
   "cell_type": "markdown",
   "id": "3b47a8c6",
   "metadata": {},
   "source": [
    "#### Step 7: Write a function that checks if the board is full and returns a boolean value. True if full, False otherwise."
   ]
  },
  {
   "cell_type": "code",
   "execution_count": 18,
   "id": "2e45e5d7",
   "metadata": {},
   "outputs": [],
   "source": [
    "def full_board_check(board):\n",
    "    for i in range(1,10):\n",
    "        if space_check(board,i):\n",
    "            return False\n",
    "    return True\n",
    "    "
   ]
  },
  {
   "cell_type": "code",
   "execution_count": 19,
   "id": "92dff834",
   "metadata": {},
   "outputs": [
    {
     "data": {
      "text/plain": [
       "True"
      ]
     },
     "execution_count": 19,
     "metadata": {},
     "output_type": "execute_result"
    }
   ],
   "source": [
    "full_board_check(test_board) #because whole board is full"
   ]
  },
  {
   "cell_type": "markdown",
   "id": "20c43480",
   "metadata": {},
   "source": [
    "#### Step 8: Write a function that asks for a player's next position (as a number 1-9) and then uses the function from step 6 to check if its a free position. If it is, then return the position for later use. "
   ]
  },
  {
   "cell_type": "code",
   "execution_count": 20,
   "id": "3bbc2938",
   "metadata": {},
   "outputs": [],
   "source": [
    "def player_choice(board):\n",
    "    position=0\n",
    "    while position not in range(1,10) or not space_check(board,position):\n",
    "        position=int(input(\"Choose next position\"))\n",
    "    return position"
   ]
  },
  {
   "cell_type": "markdown",
   "id": "ddb1bf8c",
   "metadata": {},
   "source": [
    "#### Step 9: Write a function that asks the player if they want to play again and returns a boolean True if they do want to play again."
   ]
  },
  {
   "cell_type": "code",
   "execution_count": 22,
   "id": "a6377dfe",
   "metadata": {},
   "outputs": [],
   "source": [
    "def replay():\n",
    "    choice =input(\"Do you want to play again? Enter Yes or no \")\n",
    "    return choice==\"Yes\"\n",
    "        "
   ]
  },
  {
   "cell_type": "code",
   "execution_count": 23,
   "id": "ca9d9270",
   "metadata": {},
   "outputs": [
    {
     "name": "stdout",
     "output_type": "stream",
     "text": [
      "Do you want to play again? Enter Yes or no no\n"
     ]
    },
    {
     "data": {
      "text/plain": [
       "False"
      ]
     },
     "execution_count": 23,
     "metadata": {},
     "output_type": "execute_result"
    }
   ],
   "source": [
    "replay()"
   ]
  },
  {
   "cell_type": "markdown",
   "id": "a2260e55",
   "metadata": {},
   "source": [
    "#### Step 10: Here comes the hard part! Use while loops and the functions you've made to run the game!"
   ]
  },
  {
   "cell_type": "code",
   "execution_count": 30,
   "id": "ff3fcd90",
   "metadata": {},
   "outputs": [
    {
     "name": "stdout",
     "output_type": "stream",
     "text": [
      "X| |O\n",
      " |X|O\n",
      "O|X|O\n",
      "Congratulations! You have won the game!\n",
      "Do you want to play again? Enter Yes or no no\n"
     ]
    }
   ],
   "source": [
    "print('Welcome to Tic Tac Toe!')\n",
    "\n",
    "while True:\n",
    "    # Set the game up here\n",
    "    board=[' ']*10\n",
    "    player1_marker,player2_marker =player_input()\n",
    "    turn=choose_first()\n",
    "    print(turn + 'will go first.')\n",
    "    \n",
    "    play_game =input('You ready to play?Enter yes or no')\n",
    "    \n",
    "    if play_game.lower()[0]=='y':\n",
    "        game_on =True\n",
    "    else :\n",
    "        game_on=False\n",
    "    \n",
    "    while game_on:\n",
    "        if turn == 'Player 1':\n",
    "            #Player 1 Turn\n",
    "            display_board(board)\n",
    "            position=player_choice(board)\n",
    "            place_marker(board,player1_marker,position)\n",
    "        \n",
    "            if win_check(board,player1_marker):\n",
    "                display_board(board)\n",
    "                print('Congratulations! You player1 won the game!')\n",
    "                game_on = False\n",
    "            else:\n",
    "                if full_board_check(board):\n",
    "                    display_board(board)\n",
    "                    print('The game is draw!')\n",
    "                    break\n",
    "                else:\n",
    "                    turn ='Player 2'\n",
    "        \n",
    "        else:\n",
    "        # Player2's turn.\n",
    "            display_board(board)\n",
    "            position=player_choice(board)\n",
    "            place_marker(board,player2_marker,position)\n",
    "        \n",
    "            if win_check(board,player2_marker):\n",
    "                display_board(board)\n",
    "                print('Congratulations! You player2 won the game!')\n",
    "                game_on = False\n",
    "            else:\n",
    "                if full_board_check(board):\n",
    "                \n",
    "                    display_board(board)\n",
    "                    print('The game is draw!')\n",
    "                    break\n",
    "                else:\n",
    "                    turn ='Player 1'   \n",
    "            \n",
    "\n",
    "    if not replay():\n",
    "        break"
   ]
  },
  {
   "cell_type": "code",
   "execution_count": null,
   "id": "5dc5bd4c",
   "metadata": {},
   "outputs": [],
   "source": [
    "#Finally done with this small game!"
   ]
  }
 ],
 "metadata": {
  "kernelspec": {
   "display_name": "Python 3",
   "language": "python",
   "name": "python3"
  },
  "language_info": {
   "codemirror_mode": {
    "name": "ipython",
    "version": 3
   },
   "file_extension": ".py",
   "mimetype": "text/x-python",
   "name": "python",
   "nbconvert_exporter": "python",
   "pygments_lexer": "ipython3",
   "version": "3.8.8"
  }
 },
 "nbformat": 4,
 "nbformat_minor": 5
}
