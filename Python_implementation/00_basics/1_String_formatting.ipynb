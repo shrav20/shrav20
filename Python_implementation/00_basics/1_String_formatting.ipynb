{
 "cells": [
  {
   "cell_type": "code",
   "execution_count": 1,
   "id": "987c5695",
   "metadata": {},
   "outputs": [],
   "source": [
    "#day2 13/09"
   ]
  },
  {
   "cell_type": "markdown",
   "id": "a4730eff",
   "metadata": {},
   "source": [
    "# String formatting\n"
   ]
  },
  {
   "cell_type": "markdown",
   "id": "c02156d9",
   "metadata": {},
   "source": [
    "# With placeholders\n",
    "% is string formatting operator"
   ]
  },
  {
   "cell_type": "code",
   "execution_count": 2,
   "id": "a640da2a",
   "metadata": {},
   "outputs": [
    {
     "data": {
      "text/plain": [
       "'i am going to insert something here'"
      ]
     },
     "execution_count": 2,
     "metadata": {},
     "output_type": "execute_result"
    }
   ],
   "source": [
    "\"i am going to insert %s here\"%\"something\""
   ]
  },
  {
   "cell_type": "markdown",
   "id": "ff576d69",
   "metadata": {},
   "source": [
    "%s and %r converts any python object into string .\n",
    "\n",
    "%s ->> str()\n",
    "\n",
    "%r and repr() deliver the string representation of the object, including quotation marks and any escape characters."
   ]
  },
  {
   "cell_type": "code",
   "execution_count": 3,
   "id": "2eeadc41",
   "metadata": {},
   "outputs": [
    {
     "name": "stdout",
     "output_type": "stream",
     "text": [
      "He said his name was aryan.\n",
      "He said his name was 'apoorv'.\n"
     ]
    }
   ],
   "source": [
    "print('He said his name was %s.' %'aryan')\n",
    "print('He said his name was %r.' %'apoorv')"
   ]
  },
  {
   "cell_type": "markdown",
   "id": "70910839",
   "metadata": {},
   "source": [
    "%s --> converts everything into string\n",
    "\n",
    "%d --> converts number into integer first without rounding of"
   ]
  },
  {
   "cell_type": "code",
   "execution_count": 4,
   "id": "cafd3fc5",
   "metadata": {},
   "outputs": [
    {
     "name": "stdout",
     "output_type": "stream",
     "text": [
      "I wrote 3.75 programs today.\n",
      "I wrote 3 programs today.\n"
     ]
    }
   ],
   "source": [
    "print('I wrote %s programs today.' %3.75)\n",
    "print('I wrote %d programs today.' %3.75) "
   ]
  },
  {
   "cell_type": "markdown",
   "id": "956de555",
   "metadata": {},
   "source": [
    "Padding and Precision of Floating Point Numbers\n",
    "\n",
    "Floating point numbers use the format %5.2f. Here, 5 would be the minimum number of characters the string should contain; these may be padded with whitespace if the entire number does not have this many digits. Next to this, .2f stands for how many numbers to show past the decimal point. Let's see some examples:"
   ]
  },
  {
   "cell_type": "code",
   "execution_count": 6,
   "id": "a905b9e4",
   "metadata": {},
   "outputs": [
    {
     "name": "stdout",
     "output_type": "stream",
     "text": [
      "my float number is 20.12\n"
     ]
    }
   ],
   "source": [
    "print(\"my float number is %5.2f\"%(20.119))"
   ]
  },
  {
   "cell_type": "code",
   "execution_count": 7,
   "id": "006276fe",
   "metadata": {},
   "outputs": [
    {
     "name": "stdout",
     "output_type": "stream",
     "text": [
      "my float number is           20.12\n"
     ]
    }
   ],
   "source": [
    "print(\"my float number is %15.2f\"%(20.119))"
   ]
  },
  {
   "cell_type": "code",
   "execution_count": 8,
   "id": "383977c5",
   "metadata": {},
   "outputs": [
    {
     "name": "stdout",
     "output_type": "stream",
     "text": [
      "First: hi!, Second:  3.14, Third: 'bye!'\n"
     ]
    }
   ],
   "source": [
    "print('First: %s, Second: %5.2f, Third: %r' %('hi!',3.1415,'bye!'))"
   ]
  },
  {
   "cell_type": "markdown",
   "id": "19500d23",
   "metadata": {},
   "source": [
    "## formatting using .format() method\n"
   ]
  },
  {
   "cell_type": "code",
   "execution_count": 9,
   "id": "30431c6e",
   "metadata": {},
   "outputs": [
    {
     "name": "stdout",
     "output_type": "stream",
     "text": [
      "this is an example of  dot format\n"
     ]
    }
   ],
   "source": [
    "print('this is an example of {}'.format(\" dot format\"))"
   ]
  },
  {
   "cell_type": "code",
   "execution_count": 10,
   "id": "5599d529",
   "metadata": {},
   "outputs": [
    {
     "name": "stdout",
     "output_type": "stream",
     "text": [
      "hi oh! myself shravani\n"
     ]
    }
   ],
   "source": [
    "print(\"hi {o} {m} {s}\".format(o=\"oh!\" ,s=\"shravani\",m=\"myself\"))"
   ]
  },
  {
   "cell_type": "markdown",
   "id": "32b3febc",
   "metadata": {},
   "source": [
    "## formatting using fstring method"
   ]
  },
  {
   "cell_type": "code",
   "execution_count": 11,
   "id": "016c994a",
   "metadata": {},
   "outputs": [
    {
     "name": "stdout",
     "output_type": "stream",
     "text": [
      "He said his name is shravani.\n"
     ]
    }
   ],
   "source": [
    "name=\"shravani\"\n",
    "print(f\"He said his name is {name}.\")"
   ]
  },
  {
   "cell_type": "code",
   "execution_count": 13,
   "id": "0e1c786d",
   "metadata": {},
   "outputs": [
    {
     "name": "stdout",
     "output_type": "stream",
     "text": [
      "He said his name is 'shravani'\n"
     ]
    }
   ],
   "source": [
    "print(f\"He said his name is {name!r}\") #!r to get the string representation"
   ]
  },
  {
   "cell_type": "code",
   "execution_count": null,
   "id": "1a9d4e15",
   "metadata": {},
   "outputs": [],
   "source": []
  }
 ],
 "metadata": {
  "kernelspec": {
   "display_name": "Python 3",
   "language": "python",
   "name": "python3"
  },
  "language_info": {
   "codemirror_mode": {
    "name": "ipython",
    "version": 3
   },
   "file_extension": ".py",
   "mimetype": "text/x-python",
   "name": "python",
   "nbconvert_exporter": "python",
   "pygments_lexer": "ipython3",
   "version": "3.8.8"
  }
 },
 "nbformat": 4,
 "nbformat_minor": 5
}
