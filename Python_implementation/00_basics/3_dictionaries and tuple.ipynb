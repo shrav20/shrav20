{
 "cells": [
  {
   "cell_type": "markdown",
   "id": "dd870904",
   "metadata": {},
   "source": [
    "# dictionaries:-\n",
    "A Python dictionary consists of a key and then an associated value. That value can be almost any Python object."
   ]
  },
  {
   "cell_type": "code",
   "execution_count": 1,
   "id": "2761f34e",
   "metadata": {},
   "outputs": [],
   "source": [
    "# Make a dictionary with {} and : to signify a key and a value\n",
    "my_dict = {'key1':'value1','key2':'value2'}"
   ]
  },
  {
   "cell_type": "code",
   "execution_count": 2,
   "id": "358d6db9",
   "metadata": {},
   "outputs": [
    {
     "data": {
      "text/plain": [
       "'value2'"
      ]
     },
     "execution_count": 2,
     "metadata": {},
     "output_type": "execute_result"
    }
   ],
   "source": [
    "my_dict['key2']"
   ]
  },
  {
   "cell_type": "code",
   "execution_count": 9,
   "id": "dbe50b49",
   "metadata": {},
   "outputs": [],
   "source": [
    "# dictionaries are very flexible in the data types they can hold. \n",
    "dic1={'k1':20,'k2':[23,11,26,'mohan'],'k3':{'shrav':20,'vaish':17,'aryan':22}}"
   ]
  },
  {
   "cell_type": "code",
   "execution_count": 10,
   "id": "a13e683d",
   "metadata": {},
   "outputs": [
    {
     "data": {
      "text/plain": [
       "{'shrav': 20, 'vaish': 17, 'aryan': 22}"
      ]
     },
     "execution_count": 10,
     "metadata": {},
     "output_type": "execute_result"
    }
   ],
   "source": [
    "dic1['k3']"
   ]
  },
  {
   "cell_type": "code",
   "execution_count": 11,
   "id": "11b0252f",
   "metadata": {},
   "outputs": [
    {
     "data": {
      "text/plain": [
       "20"
      ]
     },
     "execution_count": 11,
     "metadata": {},
     "output_type": "execute_result"
    }
   ],
   "source": [
    "dic1['k3']['shrav']"
   ]
  },
  {
   "cell_type": "code",
   "execution_count": 12,
   "id": "94d22d63",
   "metadata": {},
   "outputs": [
    {
     "data": {
      "text/plain": [
       "26"
      ]
     },
     "execution_count": 12,
     "metadata": {},
     "output_type": "execute_result"
    }
   ],
   "source": [
    "dic1['k2'][2]"
   ]
  },
  {
   "cell_type": "code",
   "execution_count": 13,
   "id": "b178b530",
   "metadata": {},
   "outputs": [
    {
     "data": {
      "text/plain": [
       "'MOHAN'"
      ]
     },
     "execution_count": 13,
     "metadata": {},
     "output_type": "execute_result"
    }
   ],
   "source": [
    "dic1['k2'][3].upper()"
   ]
  },
  {
   "cell_type": "code",
   "execution_count": 14,
   "id": "1a31874f",
   "metadata": {},
   "outputs": [
    {
     "data": {
      "text/plain": [
       "{'k1': 20,\n",
       " 'k2': [23, 11, 26, 'mohan'],\n",
       " 'k3': {'shrav': 20, 'vaish': 17, 'aryan': 22}}"
      ]
     },
     "execution_count": 14,
     "metadata": {},
     "output_type": "execute_result"
    }
   ],
   "source": [
    "dic1"
   ]
  },
  {
   "cell_type": "code",
   "execution_count": 16,
   "id": "a31f8b75",
   "metadata": {},
   "outputs": [
    {
     "data": {
      "text/plain": [
       "20"
      ]
     },
     "execution_count": 16,
     "metadata": {},
     "output_type": "execute_result"
    }
   ],
   "source": [
    "#can do operations on key as well\n",
    "dic1['k1']"
   ]
  },
  {
   "cell_type": "code",
   "execution_count": 21,
   "id": "1b7c9b53",
   "metadata": {},
   "outputs": [],
   "source": [
    "dic1['k1']=dic1['k1'] +2  #wrong output was coming!"
   ]
  },
  {
   "cell_type": "code",
   "execution_count": 23,
   "id": "e0719362",
   "metadata": {},
   "outputs": [],
   "source": [
    "dic1['k1']=0"
   ]
  },
  {
   "cell_type": "code",
   "execution_count": 24,
   "id": "afffc410",
   "metadata": {},
   "outputs": [
    {
     "data": {
      "text/plain": [
       "0"
      ]
     },
     "execution_count": 24,
     "metadata": {},
     "output_type": "execute_result"
    }
   ],
   "source": [
    "dic1['k1']"
   ]
  },
  {
   "cell_type": "code",
   "execution_count": 25,
   "id": "6e80da57",
   "metadata": {},
   "outputs": [],
   "source": [
    "dic2={'k1':90,'k2':92}"
   ]
  },
  {
   "cell_type": "code",
   "execution_count": 26,
   "id": "e036c5a3",
   "metadata": {},
   "outputs": [],
   "source": [
    "dic2['k1']=dic2['k1']-2"
   ]
  },
  {
   "cell_type": "code",
   "execution_count": 27,
   "id": "030d483c",
   "metadata": {},
   "outputs": [
    {
     "data": {
      "text/plain": [
       "88"
      ]
     },
     "execution_count": 27,
     "metadata": {},
     "output_type": "execute_result"
    }
   ],
   "source": [
    "dic2['k1']"
   ]
  },
  {
   "cell_type": "markdown",
   "id": "d08fbae6",
   "metadata": {},
   "source": [
    "### nesting of dictionaries"
   ]
  },
  {
   "cell_type": "code",
   "execution_count": 28,
   "id": "801781e5",
   "metadata": {},
   "outputs": [],
   "source": [
    "# Dictionary nested inside a dictionary nested inside a dictionary\n",
    "d = {'key1':{'nestkey':{'subnestkey':'value'}}}"
   ]
  },
  {
   "cell_type": "code",
   "execution_count": 29,
   "id": "14559827",
   "metadata": {},
   "outputs": [
    {
     "data": {
      "text/plain": [
       "'value'"
      ]
     },
     "execution_count": 29,
     "metadata": {},
     "output_type": "execute_result"
    }
   ],
   "source": [
    "# Keep calling the keys\n",
    "d['key1']['nestkey']['subnestkey']"
   ]
  },
  {
   "cell_type": "markdown",
   "id": "cd92c590",
   "metadata": {},
   "source": [
    "### dictionary methods:-"
   ]
  },
  {
   "cell_type": "code",
   "execution_count": 30,
   "id": "fb664bbb",
   "metadata": {},
   "outputs": [],
   "source": [
    "my_d={'h':2,'r':0,'l':3}"
   ]
  },
  {
   "cell_type": "code",
   "execution_count": 31,
   "id": "ec9037e3",
   "metadata": {},
   "outputs": [
    {
     "data": {
      "text/plain": [
       "dict_keys(['h', 'r', 'l'])"
      ]
     },
     "execution_count": 31,
     "metadata": {},
     "output_type": "execute_result"
    }
   ],
   "source": [
    "my_d.keys()"
   ]
  },
  {
   "cell_type": "code",
   "execution_count": 32,
   "id": "f586b528",
   "metadata": {},
   "outputs": [
    {
     "data": {
      "text/plain": [
       "dict_items([('h', 2), ('r', 0), ('l', 3)])"
      ]
     },
     "execution_count": 32,
     "metadata": {},
     "output_type": "execute_result"
    }
   ],
   "source": [
    "my_d.items() #returns tuple"
   ]
  },
  {
   "cell_type": "code",
   "execution_count": 33,
   "id": "1270f291",
   "metadata": {},
   "outputs": [
    {
     "data": {
      "text/plain": [
       "dict_values([2, 0, 3])"
      ]
     },
     "execution_count": 33,
     "metadata": {},
     "output_type": "execute_result"
    }
   ],
   "source": [
    "my_d.values()"
   ]
  },
  {
   "cell_type": "markdown",
   "id": "ca0b4097",
   "metadata": {},
   "source": [
    "# Tuples:-\n",
    "immutable meaning they can not be changed\n",
    "\n",
    "can be constructed using () "
   ]
  },
  {
   "cell_type": "markdown",
   "id": "ec3f325e",
   "metadata": {},
   "source": [
    "#### mix objects types can be placed "
   ]
  },
  {
   "cell_type": "code",
   "execution_count": 34,
   "id": "c8f07d0f",
   "metadata": {},
   "outputs": [
    {
     "data": {
      "text/plain": [
       "('one', 2)"
      ]
     },
     "execution_count": 34,
     "metadata": {},
     "output_type": "execute_result"
    }
   ],
   "source": [
    "t = ('one',2)\n",
    "\n",
    "# Show\n",
    "t"
   ]
  },
  {
   "cell_type": "code",
   "execution_count": 35,
   "id": "03dcf5a4",
   "metadata": {},
   "outputs": [
    {
     "data": {
      "text/plain": [
       "2"
      ]
     },
     "execution_count": 35,
     "metadata": {},
     "output_type": "execute_result"
    }
   ],
   "source": [
    "t[-1]"
   ]
  },
  {
   "cell_type": "markdown",
   "id": "1522e398",
   "metadata": {},
   "source": [
    "#### basic tuple methods"
   ]
  },
  {
   "cell_type": "code",
   "execution_count": 37,
   "id": "e644934c",
   "metadata": {},
   "outputs": [
    {
     "data": {
      "text/plain": [
       "1"
      ]
     },
     "execution_count": 37,
     "metadata": {},
     "output_type": "execute_result"
    }
   ],
   "source": [
    "t.index(2)"
   ]
  },
  {
   "cell_type": "code",
   "execution_count": 38,
   "id": "b5f5f6e4",
   "metadata": {},
   "outputs": [
    {
     "data": {
      "text/plain": [
       "1"
      ]
     },
     "execution_count": 38,
     "metadata": {},
     "output_type": "execute_result"
    }
   ],
   "source": [
    "t.count('one')"
   ]
  },
  {
   "cell_type": "markdown",
   "id": "17905963",
   "metadata": {},
   "source": [
    "#### immutable"
   ]
  },
  {
   "cell_type": "code",
   "execution_count": 39,
   "id": "a44a5e8a",
   "metadata": {},
   "outputs": [
    {
     "ename": "TypeError",
     "evalue": "'tuple' object does not support item assignment",
     "output_type": "error",
     "traceback": [
      "\u001b[1;31m---------------------------------------------------------------------------\u001b[0m",
      "\u001b[1;31mTypeError\u001b[0m                                 Traceback (most recent call last)",
      "\u001b[1;32m<ipython-input-39-1257c0aa9edd>\u001b[0m in \u001b[0;36m<module>\u001b[1;34m\u001b[0m\n\u001b[1;32m----> 1\u001b[1;33m \u001b[0mt\u001b[0m\u001b[1;33m[\u001b[0m\u001b[1;36m0\u001b[0m\u001b[1;33m]\u001b[0m\u001b[1;33m=\u001b[0m \u001b[1;34m'change'\u001b[0m\u001b[1;33m\u001b[0m\u001b[1;33m\u001b[0m\u001b[0m\n\u001b[0m",
      "\u001b[1;31mTypeError\u001b[0m: 'tuple' object does not support item assignment"
     ]
    }
   ],
   "source": [
    "t[0]= 'change'"
   ]
  },
  {
   "cell_type": "code",
   "execution_count": 40,
   "id": "e865bb40",
   "metadata": {},
   "outputs": [
    {
     "ename": "AttributeError",
     "evalue": "'tuple' object has no attribute 'append'",
     "output_type": "error",
     "traceback": [
      "\u001b[1;31m---------------------------------------------------------------------------\u001b[0m",
      "\u001b[1;31mAttributeError\u001b[0m                            Traceback (most recent call last)",
      "\u001b[1;32m<ipython-input-40-b75f5b09ac19>\u001b[0m in \u001b[0;36m<module>\u001b[1;34m\u001b[0m\n\u001b[1;32m----> 1\u001b[1;33m \u001b[0mt\u001b[0m\u001b[1;33m.\u001b[0m\u001b[0mappend\u001b[0m\u001b[1;33m(\u001b[0m\u001b[1;34m'nope'\u001b[0m\u001b[1;33m)\u001b[0m\u001b[1;33m\u001b[0m\u001b[1;33m\u001b[0m\u001b[0m\n\u001b[0m",
      "\u001b[1;31mAttributeError\u001b[0m: 'tuple' object has no attribute 'append'"
     ]
    }
   ],
   "source": [
    "t.append('nope')"
   ]
  },
  {
   "cell_type": "code",
   "execution_count": null,
   "id": "fe0efc8a",
   "metadata": {},
   "outputs": [],
   "source": []
  }
 ],
 "metadata": {
  "kernelspec": {
   "display_name": "Python 3",
   "language": "python",
   "name": "python3"
  },
  "language_info": {
   "codemirror_mode": {
    "name": "ipython",
    "version": 3
   },
   "file_extension": ".py",
   "mimetype": "text/x-python",
   "name": "python",
   "nbconvert_exporter": "python",
   "pygments_lexer": "ipython3",
   "version": "3.8.8"
  }
 },
 "nbformat": 4,
 "nbformat_minor": 5
}
