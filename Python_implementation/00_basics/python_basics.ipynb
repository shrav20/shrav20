{
 "cells": [
  {
   "cell_type": "code",
   "execution_count": 1,
   "id": "b1e0d48d",
   "metadata": {},
   "outputs": [],
   "source": [
    "#print without new line "
   ]
  },
  {
   "cell_type": "code",
   "execution_count": 2,
   "id": "bee07da6",
   "metadata": {},
   "outputs": [
    {
     "name": "stdout",
     "output_type": "stream",
     "text": [
      "0123456789"
     ]
    }
   ],
   "source": [
    "for i in range(10):\n",
    "    print(i,end=\"\")"
   ]
  },
  {
   "cell_type": "code",
   "execution_count": 3,
   "id": "ff9d3bf3",
   "metadata": {},
   "outputs": [
    {
     "name": "stdout",
     "output_type": "stream",
     "text": [
      "0 1 2 3 4 5 6 7 8 9 "
     ]
    }
   ],
   "source": [
    "for i in range(10):\n",
    "    print(i,end=\" \")"
   ]
  },
  {
   "cell_type": "code",
   "execution_count": 4,
   "id": "40457411",
   "metadata": {},
   "outputs": [
    {
     "name": "stdout",
     "output_type": "stream",
     "text": [
      "0 2 3 5 6 7\n"
     ]
    }
   ],
   "source": [
    "#print without new line and without for loop\n",
    "new_li=[0,2,3,5,6,7]\n",
    "print(*new_li)"
   ]
  },
  {
   "cell_type": "code",
   "execution_count": 5,
   "id": "864d0bc1",
   "metadata": {},
   "outputs": [
    {
     "name": "stdout",
     "output_type": "stream",
     "text": [
      "shravani12"
     ]
    }
   ],
   "source": [
    "#print with sys\n",
    "import sys\n",
    "sys.stdout.write(\"shravani\")\n",
    "sys.stdout.write(\"12\")"
   ]
  },
  {
   "cell_type": "code",
   "execution_count": 6,
   "id": "0da99e40",
   "metadata": {},
   "outputs": [
    {
     "name": "stdout",
     "output_type": "stream",
     "text": [
      "shravani"
     ]
    },
    {
     "ename": "AttributeError",
     "evalue": "'int' object has no attribute 'decode'",
     "output_type": "error",
     "traceback": [
      "\u001b[1;31m---------------------------------------------------------------------------\u001b[0m",
      "\u001b[1;31mAttributeError\u001b[0m                            Traceback (most recent call last)",
      "\u001b[1;32m<ipython-input-6-79184ae69520>\u001b[0m in \u001b[0;36m<module>\u001b[1;34m\u001b[0m\n\u001b[0;32m      2\u001b[0m \u001b[1;32mimport\u001b[0m \u001b[0msys\u001b[0m\u001b[1;33m\u001b[0m\u001b[1;33m\u001b[0m\u001b[0m\n\u001b[0;32m      3\u001b[0m \u001b[0msys\u001b[0m\u001b[1;33m.\u001b[0m\u001b[0mstdout\u001b[0m\u001b[1;33m.\u001b[0m\u001b[0mwrite\u001b[0m\u001b[1;33m(\u001b[0m\u001b[1;34m\"shravani\"\u001b[0m\u001b[1;33m)\u001b[0m\u001b[1;33m\u001b[0m\u001b[1;33m\u001b[0m\u001b[0m\n\u001b[1;32m----> 4\u001b[1;33m \u001b[0msys\u001b[0m\u001b[1;33m.\u001b[0m\u001b[0mstdout\u001b[0m\u001b[1;33m.\u001b[0m\u001b[0mwrite\u001b[0m\u001b[1;33m(\u001b[0m\u001b[1;36m12\u001b[0m\u001b[1;33m)\u001b[0m  \u001b[1;31m#gives error message as the 12 is an int while stdout.write only takes strings\u001b[0m\u001b[1;33m\u001b[0m\u001b[1;33m\u001b[0m\u001b[0m\n\u001b[0m",
      "\u001b[1;32m~\\anaconda3\\lib\\site-packages\\ipykernel\\iostream.py\u001b[0m in \u001b[0;36mwrite\u001b[1;34m(self, string)\u001b[0m\n\u001b[0;32m    398\u001b[0m             \u001b[1;31m# Make sure that we're handling unicode\u001b[0m\u001b[1;33m\u001b[0m\u001b[1;33m\u001b[0m\u001b[1;33m\u001b[0m\u001b[0m\n\u001b[0;32m    399\u001b[0m             \u001b[1;32mif\u001b[0m \u001b[1;32mnot\u001b[0m \u001b[0misinstance\u001b[0m\u001b[1;33m(\u001b[0m\u001b[0mstring\u001b[0m\u001b[1;33m,\u001b[0m \u001b[0municode_type\u001b[0m\u001b[1;33m)\u001b[0m\u001b[1;33m:\u001b[0m\u001b[1;33m\u001b[0m\u001b[1;33m\u001b[0m\u001b[0m\n\u001b[1;32m--> 400\u001b[1;33m                 \u001b[0mstring\u001b[0m \u001b[1;33m=\u001b[0m \u001b[0mstring\u001b[0m\u001b[1;33m.\u001b[0m\u001b[0mdecode\u001b[0m\u001b[1;33m(\u001b[0m\u001b[0mself\u001b[0m\u001b[1;33m.\u001b[0m\u001b[0mencoding\u001b[0m\u001b[1;33m,\u001b[0m \u001b[1;34m'replace'\u001b[0m\u001b[1;33m)\u001b[0m\u001b[1;33m\u001b[0m\u001b[1;33m\u001b[0m\u001b[0m\n\u001b[0m\u001b[0;32m    401\u001b[0m \u001b[1;33m\u001b[0m\u001b[0m\n\u001b[0;32m    402\u001b[0m             \u001b[0mis_child\u001b[0m \u001b[1;33m=\u001b[0m \u001b[1;33m(\u001b[0m\u001b[1;32mnot\u001b[0m \u001b[0mself\u001b[0m\u001b[1;33m.\u001b[0m\u001b[0m_is_master_process\u001b[0m\u001b[1;33m(\u001b[0m\u001b[1;33m)\u001b[0m\u001b[1;33m)\u001b[0m\u001b[1;33m\u001b[0m\u001b[1;33m\u001b[0m\u001b[0m\n",
      "\u001b[1;31mAttributeError\u001b[0m: 'int' object has no attribute 'decode'"
     ]
    }
   ],
   "source": [
    "#print with sys\n",
    "import sys\n",
    "sys.stdout.write(\"shravani\")\n",
    "sys.stdout.write(12)  #gives error message as the 12 is an int while stdout.write only takes strings"
   ]
  },
  {
   "cell_type": "code",
   "execution_count": 7,
   "id": "d6cebbe9",
   "metadata": {},
   "outputs": [],
   "source": [
    "#bit wise operator "
   ]
  },
  {
   "cell_type": "code",
   "execution_count": 8,
   "id": "e8c29485",
   "metadata": {},
   "outputs": [
    {
     "name": "stdout",
     "output_type": "stream",
     "text": [
      "not an odd number\n"
     ]
    }
   ],
   "source": [
    "x=14\n",
    "if x & 1:\n",
    "    print(x)\n",
    "else:\n",
    "    print(\"not an odd number\")"
   ]
  },
  {
   "cell_type": "code",
   "execution_count": 9,
   "id": "aa7d4ce7",
   "metadata": {},
   "outputs": [],
   "source": [
    "#basic calculator using functions add() mul() sub() and div()"
   ]
  },
  {
   "cell_type": "code",
   "execution_count": 12,
   "id": "51770fe3",
   "metadata": {},
   "outputs": [
    {
     "name": "stdout",
     "output_type": "stream",
     "text": [
      "Please select operation -\n",
      "1. Add\n",
      "2. Subtract\n",
      "3. Multiply\n",
      "4. Divide\n",
      "\n",
      "Select operations form 1, 2, 3, 4: 4\n",
      "Enter first number: 11\n",
      "Enter second number: 20\n",
      "11 / 20 = 0.55\n",
      "Do you wish to continue? (Y/N): N\n"
     ]
    }
   ],
   "source": [
    "# Function to add two numbers\n",
    "def add(num1, num2):\n",
    "    return num1 + num2\n",
    "\n",
    "# Function to subtract two numbers\n",
    "def subtract(num1, num2):\n",
    "    return num1 - num2\n",
    "\n",
    "# Function to multiply two numbers\n",
    "def multiply(num1, num2):\n",
    "    return num1 * num2\n",
    "\n",
    "# Function to divide two numbers\n",
    "def divide(num1, num2):\n",
    "    return num1 / num2\n",
    "\n",
    "while True:\n",
    "    print(\"Please select operation -\\n\" \\\n",
    "            \"1. Add\\n\" \\\n",
    "            \"2. Subtract\\n\" \\\n",
    "            \"3. Multiply\\n\" \\\n",
    "            \"4. Divide\\n\")\n",
    "\n",
    "    # Take input from the user\n",
    "    select = int(input(\"Select operations form 1, 2, 3, 4: \"))\n",
    "\n",
    "    number_1 = int(input(\"Enter first number: \"))\n",
    "    number_2 = int(input(\"Enter second number: \"))\n",
    "\n",
    "    if select == 1:\n",
    "        print(number_1, \"+\", number_2, \"=\", add(number_1, number_2))\n",
    "    elif select == 2:\n",
    "        print(number_1, \"-\", number_2, \"=\", subtract(number_1, number_2))\n",
    "    elif select == 3:\n",
    "        print(number_1, \"*\", number_2, \"=\", multiply(number_1, number_2))\n",
    "    elif select == 4:\n",
    "        print(number_1, \"/\", number_2, \"=\", divide(number_1, number_2))\n",
    "    else:\n",
    "        print(\"Invalid input\")\n",
    "\n",
    "    ans = input(\"Do you wish to continue? (Y/N): \")\n",
    "    if ans != \"Y\":\n",
    "        break\n"
   ]
  },
  {
   "cell_type": "code",
   "execution_count": null,
   "id": "a79f3541",
   "metadata": {},
   "outputs": [],
   "source": []
  }
 ],
 "metadata": {
  "kernelspec": {
   "display_name": "Python 3",
   "language": "python",
   "name": "python3"
  },
  "language_info": {
   "codemirror_mode": {
    "name": "ipython",
    "version": 3
   },
   "file_extension": ".py",
   "mimetype": "text/x-python",
   "name": "python",
   "nbconvert_exporter": "python",
   "pygments_lexer": "ipython3",
   "version": "3.8.8"
  }
 },
 "nbformat": 4,
 "nbformat_minor": 5
}
