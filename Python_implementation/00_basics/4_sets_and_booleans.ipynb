{
 "cells": [
  {
   "cell_type": "markdown",
   "id": "bb72a790",
   "metadata": {},
   "source": [
    "# Sets and Booleans"
   ]
  },
  {
   "cell_type": "markdown",
   "id": "e64f9cec",
   "metadata": {},
   "source": [
    "## Sets\n",
    "Sets are an unordered collection of unique elements.set()"
   ]
  },
  {
   "cell_type": "code",
   "execution_count": 1,
   "id": "496621cd",
   "metadata": {},
   "outputs": [
    {
     "name": "stdout",
     "output_type": "stream",
     "text": [
      "{1}\n"
     ]
    }
   ],
   "source": [
    "x=set() #created a set\n",
    "x.add(1)\n",
    "print(x)"
   ]
  },
  {
   "cell_type": "code",
   "execution_count": 2,
   "id": "88998b2f",
   "metadata": {},
   "outputs": [],
   "source": [
    "x.add(2)"
   ]
  },
  {
   "cell_type": "code",
   "execution_count": 3,
   "id": "7003df05",
   "metadata": {},
   "outputs": [],
   "source": [
    "x.add(1)  #trying to add same element"
   ]
  },
  {
   "cell_type": "code",
   "execution_count": 4,
   "id": "1de04376",
   "metadata": {},
   "outputs": [
    {
     "data": {
      "text/plain": [
       "{1, 2}"
      ]
     },
     "execution_count": 4,
     "metadata": {},
     "output_type": "execute_result"
    }
   ],
   "source": [
    "x"
   ]
  },
  {
   "cell_type": "code",
   "execution_count": 5,
   "id": "627a2259",
   "metadata": {},
   "outputs": [
    {
     "data": {
      "text/plain": [
       "{1, 2, 3, 11, 18, 19, 20, 32, 45, 67, 76}"
      ]
     },
     "execution_count": 5,
     "metadata": {},
     "output_type": "execute_result"
    }
   ],
   "source": [
    "#create a list with repeats\n",
    "list1=[1,2,3,20,19,18,67,76,32,45,2,20,1,11,11,18,19,67,67,76]\n",
    "set(list1)"
   ]
  },
  {
   "cell_type": "markdown",
   "id": "355cab11",
   "metadata": {},
   "source": [
    "## Booleans\n",
    "Python comes with Booleans (with predefined True and False displays that are basically just the integers 1 and 0)."
   ]
  },
  {
   "cell_type": "code",
   "execution_count": 6,
   "id": "e038d7e0",
   "metadata": {},
   "outputs": [
    {
     "data": {
      "text/plain": [
       "False"
      ]
     },
     "execution_count": 6,
     "metadata": {},
     "output_type": "execute_result"
    }
   ],
   "source": [
    "a=True #set object to be boolean \n",
    "1>2"
   ]
  },
  {
   "cell_type": "markdown",
   "id": "36b08e21",
   "metadata": {},
   "source": [
    "We can use None as a placeholder for an object that we don't want to reassign yet:"
   ]
  },
  {
   "cell_type": "code",
   "execution_count": 7,
   "id": "f0f23419",
   "metadata": {},
   "outputs": [],
   "source": [
    "s=None\n",
    "s"
   ]
  },
  {
   "cell_type": "code",
   "execution_count": 8,
   "id": "f4b9ea53",
   "metadata": {},
   "outputs": [
    {
     "name": "stdout",
     "output_type": "stream",
     "text": [
      "None\n"
     ]
    }
   ],
   "source": [
    "print(s)"
   ]
  },
  {
   "cell_type": "code",
   "execution_count": null,
   "id": "7c1edbbf",
   "metadata": {},
   "outputs": [],
   "source": []
  }
 ],
 "metadata": {
  "kernelspec": {
   "display_name": "Python 3",
   "language": "python",
   "name": "python3"
  },
  "language_info": {
   "codemirror_mode": {
    "name": "ipython",
    "version": 3
   },
   "file_extension": ".py",
   "mimetype": "text/x-python",
   "name": "python",
   "nbconvert_exporter": "python",
   "pygments_lexer": "ipython3",
   "version": "3.8.8"
  }
 },
 "nbformat": 4,
 "nbformat_minor": 5
}
