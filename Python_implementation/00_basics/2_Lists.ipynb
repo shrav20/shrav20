{
 "cells": [
  {
   "cell_type": "markdown",
   "id": "0db6a8cb",
   "metadata": {},
   "source": [
    "# lists:-\n",
    "list is mutable :- change can be done .\n",
    " Constructed with [ ] "
   ]
  },
  {
   "cell_type": "code",
   "execution_count": 1,
   "id": "40f9c660",
   "metadata": {},
   "outputs": [],
   "source": [
    "li=[\"shrav\",20,89.11,'a']"
   ]
  },
  {
   "cell_type": "code",
   "execution_count": 2,
   "id": "171cf05d",
   "metadata": {},
   "outputs": [
    {
     "data": {
      "text/plain": [
       "4"
      ]
     },
     "execution_count": 2,
     "metadata": {},
     "output_type": "execute_result"
    }
   ],
   "source": [
    "len(li)"
   ]
  },
  {
   "cell_type": "markdown",
   "id": "93aad34e",
   "metadata": {},
   "source": [
    "#### indexing and slicing"
   ]
  },
  {
   "cell_type": "code",
   "execution_count": 3,
   "id": "cbffec75",
   "metadata": {},
   "outputs": [
    {
     "data": {
      "text/plain": [
       "'shrav'"
      ]
     },
     "execution_count": 3,
     "metadata": {},
     "output_type": "execute_result"
    }
   ],
   "source": [
    "li[0]"
   ]
  },
  {
   "cell_type": "code",
   "execution_count": 7,
   "id": "c19d09fb",
   "metadata": {},
   "outputs": [
    {
     "data": {
      "text/plain": [
       "['shrav', 20, 89.11]"
      ]
     },
     "execution_count": 7,
     "metadata": {},
     "output_type": "execute_result"
    }
   ],
   "source": [
    "li[2:] #from 2 to last\n",
    "li[:3] #till 3rd index"
   ]
  },
  {
   "cell_type": "code",
   "execution_count": 8,
   "id": "4223c28d",
   "metadata": {},
   "outputs": [
    {
     "data": {
      "text/plain": [
       "['shrav', 20, 89.11, 'a', 'us', 90, 23]"
      ]
     },
     "execution_count": 8,
     "metadata": {},
     "output_type": "execute_result"
    }
   ],
   "source": [
    "li2=['us',90,23]\n",
    "li+li2 #concatenation"
   ]
  },
  {
   "cell_type": "code",
   "execution_count": 9,
   "id": "728217b9",
   "metadata": {},
   "outputs": [
    {
     "data": {
      "text/plain": [
       "['shrav', 20, 89.11, 'a']"
      ]
     },
     "execution_count": 9,
     "metadata": {},
     "output_type": "execute_result"
    }
   ],
   "source": [
    "li  # concatenation doesn't change the original list "
   ]
  },
  {
   "cell_type": "code",
   "execution_count": 10,
   "id": "9212120d",
   "metadata": {},
   "outputs": [
    {
     "data": {
      "text/plain": [
       "['shrav', 20, 89.11, 'a', 'shrav', 20, 89.11, 'a']"
      ]
     },
     "execution_count": 10,
     "metadata": {},
     "output_type": "execute_result"
    }
   ],
   "source": [
    " li*2"
   ]
  },
  {
   "cell_type": "markdown",
   "id": "e1614858",
   "metadata": {},
   "source": [
    "#### list methods :- append,sort,pop,etc."
   ]
  },
  {
   "cell_type": "code",
   "execution_count": 29,
   "id": "45ec0d80",
   "metadata": {},
   "outputs": [],
   "source": [
    "#append\n",
    "li.append(\"hi\")"
   ]
  },
  {
   "cell_type": "code",
   "execution_count": 30,
   "id": "ab3cb110",
   "metadata": {},
   "outputs": [
    {
     "data": {
      "text/plain": [
       "['shrav', 20, 89.11, 'a', 'hi']"
      ]
     },
     "execution_count": 30,
     "metadata": {},
     "output_type": "execute_result"
    }
   ],
   "source": [
    "li"
   ]
  },
  {
   "cell_type": "code",
   "execution_count": 31,
   "id": "e456a60b",
   "metadata": {},
   "outputs": [
    {
     "data": {
      "text/plain": [
       "23"
      ]
     },
     "execution_count": 31,
     "metadata": {},
     "output_type": "execute_result"
    }
   ],
   "source": [
    "#pop() #li2=['us',90,23]\n",
    "li2.pop()"
   ]
  },
  {
   "cell_type": "code",
   "execution_count": 32,
   "id": "8fafda77",
   "metadata": {},
   "outputs": [],
   "source": [
    "#reverse()\n",
    "li.reverse()"
   ]
  },
  {
   "cell_type": "code",
   "execution_count": 33,
   "id": "8dfef69b",
   "metadata": {},
   "outputs": [
    {
     "data": {
      "text/plain": [
       "['hi', 'a', 89.11, 20, 'shrav']"
      ]
     },
     "execution_count": 33,
     "metadata": {},
     "output_type": "execute_result"
    }
   ],
   "source": [
    "li"
   ]
  },
  {
   "cell_type": "code",
   "execution_count": 35,
   "id": "0405c44f",
   "metadata": {},
   "outputs": [],
   "source": [
    "li1=[90,3,4,5,677]\n",
    "li1.sort()"
   ]
  },
  {
   "cell_type": "code",
   "execution_count": 36,
   "id": "14de049d",
   "metadata": {},
   "outputs": [
    {
     "data": {
      "text/plain": [
       "[3, 4, 5, 90, 677]"
      ]
     },
     "execution_count": 36,
     "metadata": {},
     "output_type": "execute_result"
    }
   ],
   "source": [
    "li1"
   ]
  },
  {
   "cell_type": "markdown",
   "id": "876bdc03",
   "metadata": {},
   "source": [
    "### list comprehension"
   ]
  },
  {
   "cell_type": "code",
   "execution_count": 38,
   "id": "13f5f4c1",
   "metadata": {},
   "outputs": [],
   "source": [
    "#come here when for loops are done\n",
    "#4:35 13th sep"
   ]
  },
  {
   "cell_type": "code",
   "execution_count": null,
   "id": "aab813c3",
   "metadata": {},
   "outputs": [],
   "source": []
  }
 ],
 "metadata": {
  "kernelspec": {
   "display_name": "Python 3",
   "language": "python",
   "name": "python3"
  },
  "language_info": {
   "codemirror_mode": {
    "name": "ipython",
    "version": 3
   },
   "file_extension": ".py",
   "mimetype": "text/x-python",
   "name": "python",
   "nbconvert_exporter": "python",
   "pygments_lexer": "ipython3",
   "version": "3.8.8"
  }
 },
 "nbformat": 4,
 "nbformat_minor": 5
}
