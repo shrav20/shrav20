{
 "cells": [
  {
   "cell_type": "code",
   "execution_count": 1,
   "id": "574414d6",
   "metadata": {},
   "outputs": [],
   "source": [
    "#lets see the implementation of hashset"
   ]
  },
  {
   "cell_type": "code",
   "execution_count": 2,
   "id": "57f72ea9",
   "metadata": {},
   "outputs": [],
   "source": [
    "def my_fun(my_set):\n",
    "    for i in my_set:\n",
    "        print(i)"
   ]
  },
  {
   "cell_type": "code",
   "execution_count": 3,
   "id": "7aff8c60",
   "metadata": {},
   "outputs": [
    {
     "name": "stdout",
     "output_type": "stream",
     "text": [
      "eknath\n",
      "chavan\n",
      "aditya\n",
      "baal\n",
      "devendra\n"
     ]
    }
   ],
   "source": [
    "set_eg={\"aditya\",\"baal\",\"chavan\",\"devendra\",\"eknath\"}\n",
    "my_fun(set_eg)"
   ]
  },
  {
   "cell_type": "code",
   "execution_count": 4,
   "id": "40c54e8a",
   "metadata": {},
   "outputs": [
    {
     "name": "stdout",
     "output_type": "stream",
     "text": [
      "eknath\n",
      "chavan\n",
      "aditya\n",
      "baal\n",
      "devendra\n"
     ]
    }
   ],
   "source": [
    "my_fun(set_eg)"
   ]
  },
  {
   "cell_type": "code",
   "execution_count": null,
   "id": "c8956a4c",
   "metadata": {},
   "outputs": [],
   "source": []
  }
 ],
 "metadata": {
  "kernelspec": {
   "display_name": "Python 3",
   "language": "python",
   "name": "python3"
  },
  "language_info": {
   "codemirror_mode": {
    "name": "ipython",
    "version": 3
   },
   "file_extension": ".py",
   "mimetype": "text/x-python",
   "name": "python",
   "nbconvert_exporter": "python",
   "pygments_lexer": "ipython3",
   "version": "3.8.8"
  }
 },
 "nbformat": 4,
 "nbformat_minor": 5
}
