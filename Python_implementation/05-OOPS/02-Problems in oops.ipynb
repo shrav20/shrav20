{
 "cells": [
  {
   "cell_type": "markdown",
   "id": "d1ef94be",
   "metadata": {},
   "source": [
    "## problems :-\n",
    "1.Line (calcalute the distance between to pooints and its slope )"
   ]
  },
  {
   "cell_type": "code",
   "execution_count": 1,
   "id": "9378a1c7",
   "metadata": {},
   "outputs": [],
   "source": [
    "class Line:\n",
    "    \n",
    "    def __init__(self,coor1,coor2):\n",
    "        self.coor1=coor1\n",
    "        self.coor2=coor2\n",
    "        \n",
    "    \n",
    "    def distance(self):  #d=((x2-x1)**2 +(y2-y1)**2)**0.5\n",
    "        x1,y1=self.coor1\n",
    "        x2,y2=self.coor2\n",
    "        d=((x2-x1)**2 +(y2-y1)**2)**0.5\n",
    "        return  d\n",
    "    def slope(self):\n",
    "        x1,y1=self.coor1\n",
    "        x2,y2=self.coor2\n",
    "        slope=(y2-y1)/(x2-x1)\n",
    "        return slope"
   ]
  },
  {
   "cell_type": "code",
   "execution_count": 3,
   "id": "346c8ef6",
   "metadata": {},
   "outputs": [],
   "source": [
    "point1=(9,10)\n",
    "point2=(11,12)\n",
    "\n",
    "li=Line(point1,point2)"
   ]
  },
  {
   "cell_type": "code",
   "execution_count": 4,
   "id": "b64a694f",
   "metadata": {},
   "outputs": [
    {
     "data": {
      "text/plain": [
       "2.8284271247461903"
      ]
     },
     "execution_count": 4,
     "metadata": {},
     "output_type": "execute_result"
    }
   ],
   "source": [
    "li.distance()"
   ]
  },
  {
   "cell_type": "code",
   "execution_count": 5,
   "id": "3cab7a81",
   "metadata": {},
   "outputs": [
    {
     "data": {
      "text/plain": [
       "1.0"
      ]
     },
     "execution_count": 5,
     "metadata": {},
     "output_type": "execute_result"
    }
   ],
   "source": [
    "li.slope()"
   ]
  },
  {
   "cell_type": "markdown",
   "id": "24a7f4da",
   "metadata": {},
   "source": [
    "Problem 2:-\n",
    "Calculate volume and surface area of a cylinder using oops"
   ]
  },
  {
   "cell_type": "code",
   "execution_count": 6,
   "id": "86f44bfa",
   "metadata": {},
   "outputs": [],
   "source": [
    "class Cylinder:\n",
    "    \n",
    "    pi=3.14\n",
    "    \n",
    "    def __init__(self,height=1,radius=1):\n",
    "        self.height=height\n",
    "        self.radius=radius\n",
    "        \n",
    "    def volume(self):   #pi r^2 h\n",
    "        return Cylinder.pi*self.radius**2*self.height\n",
    "    \n",
    "    def surface_area(self):\n",
    "        #2πrh+2πr2\n",
    "        return (2*Cylinder.pi*self.radius*self.height + 2*Cylinder.pi*self.radius**2)"
   ]
  },
  {
   "cell_type": "code",
   "execution_count": 9,
   "id": "7e4dfa7d",
   "metadata": {},
   "outputs": [],
   "source": [
    "cy=Cylinder(2,4)"
   ]
  },
  {
   "cell_type": "code",
   "execution_count": 10,
   "id": "c223cb39",
   "metadata": {},
   "outputs": [
    {
     "data": {
      "text/plain": [
       "150.72"
      ]
     },
     "execution_count": 10,
     "metadata": {},
     "output_type": "execute_result"
    }
   ],
   "source": [
    "cy.surface_area()"
   ]
  },
  {
   "cell_type": "code",
   "execution_count": 11,
   "id": "e7f39c3d",
   "metadata": {},
   "outputs": [
    {
     "data": {
      "text/plain": [
       "100.48"
      ]
     },
     "execution_count": 11,
     "metadata": {},
     "output_type": "execute_result"
    }
   ],
   "source": [
    "cy.volume()"
   ]
  },
  {
   "cell_type": "code",
   "execution_count": null,
   "id": "df6da732",
   "metadata": {},
   "outputs": [],
   "source": []
  }
 ],
 "metadata": {
  "kernelspec": {
   "display_name": "Python 3",
   "language": "python",
   "name": "python3"
  },
  "language_info": {
   "codemirror_mode": {
    "name": "ipython",
    "version": 3
   },
   "file_extension": ".py",
   "mimetype": "text/x-python",
   "name": "python",
   "nbconvert_exporter": "python",
   "pygments_lexer": "ipython3",
   "version": "3.8.8"
  }
 },
 "nbformat": 4,
 "nbformat_minor": 5
}
