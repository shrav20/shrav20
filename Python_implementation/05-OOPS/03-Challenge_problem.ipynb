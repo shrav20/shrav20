{
 "cells": [
  {
   "cell_type": "markdown",
   "id": "b135c8ce",
   "metadata": {},
   "source": [
    "For this challenge, create a bank account class that has two attributes:\n",
    "\n",
    "* owner\n",
    "* balance\n",
    "\n",
    "\n",
    "and two methods:\n",
    "\n",
    "* deposit\n",
    "* withdraw\n",
    "\n",
    "\n",
    "As an added requirement, withdrawals may not exceed the available balance.\n",
    "\n",
    "Instantiate your class, make several deposits and withdrawals, and test to make sure the account can't be overdrawn."
   ]
  },
  {
   "cell_type": "code",
   "execution_count": 9,
   "id": "cbe0b11f",
   "metadata": {},
   "outputs": [],
   "source": [
    "class Account:\n",
    "    def __init__(self,owner,balance):\n",
    "        self.owner=owner\n",
    "        self.balance=balance\n",
    "    def __str__(self):\n",
    "        return ('Account owner is {}\\nAccount balance is {} '.format(self.owner,self.balance))\n",
    "    \n",
    "    def deposit(self,amount):\n",
    "        self.amount=amount\n",
    "        self.balance=self.balance+amount\n",
    "        print(\"Deposit Accepted\")\n",
    "        print(\"current balance after deposited amount is {}\".format(self.balance))\n",
    "    \n",
    "    def withdraw(self,amount):\n",
    "        self.amount=amount\n",
    "        self.balance=self.balance-amount\n",
    "        if self.balance>0:\n",
    "            print(\"Withdrawal Accepted\")\n",
    "        else:\n",
    "            print(\"Funds Unavailable!\")"
   ]
  },
  {
   "cell_type": "code",
   "execution_count": 10,
   "id": "28731365",
   "metadata": {},
   "outputs": [],
   "source": [
    "#make instance of a class\n",
    "myacc=Account(\"Shravani\",1000)"
   ]
  },
  {
   "cell_type": "code",
   "execution_count": 11,
   "id": "11416f04",
   "metadata": {},
   "outputs": [
    {
     "name": "stdout",
     "output_type": "stream",
     "text": [
      "Account owner is Shravani\n",
      "Account balance is 1000 \n"
     ]
    }
   ],
   "source": [
    "print(myacc) #print the object"
   ]
  },
  {
   "cell_type": "code",
   "execution_count": 12,
   "id": "f41f796a",
   "metadata": {},
   "outputs": [
    {
     "data": {
      "text/plain": [
       "1000"
      ]
     },
     "execution_count": 12,
     "metadata": {},
     "output_type": "execute_result"
    }
   ],
   "source": [
    "myacc.balance  # show the account balance attribute"
   ]
  },
  {
   "cell_type": "code",
   "execution_count": 13,
   "id": "78183415",
   "metadata": {},
   "outputs": [
    {
     "data": {
      "text/plain": [
       "'Shravani'"
      ]
     },
     "execution_count": 13,
     "metadata": {},
     "output_type": "execute_result"
    }
   ],
   "source": [
    "myacc.owner # show the account owner attribute"
   ]
  },
  {
   "cell_type": "code",
   "execution_count": 14,
   "id": "52af2268",
   "metadata": {},
   "outputs": [
    {
     "name": "stdout",
     "output_type": "stream",
     "text": [
      "Deposit Accepted\n",
      "current balance after deposited amount is 1050\n"
     ]
    }
   ],
   "source": [
    "# Make a series of deposits and withdrawals\n",
    "myacc.deposit(50)"
   ]
  },
  {
   "cell_type": "code",
   "execution_count": 15,
   "id": "09dada8e",
   "metadata": {},
   "outputs": [
    {
     "name": "stdout",
     "output_type": "stream",
     "text": [
      "Withdrawal Accepted\n"
     ]
    }
   ],
   "source": [
    "myacc.withdraw(900)"
   ]
  },
  {
   "cell_type": "code",
   "execution_count": 17,
   "id": "a909c487",
   "metadata": {},
   "outputs": [
    {
     "name": "stdout",
     "output_type": "stream",
     "text": [
      "Funds Unavailable!\n"
     ]
    }
   ],
   "source": [
    "myacc.withdraw(200) #Make a withdrawal that exceeds the available balance"
   ]
  },
  {
   "cell_type": "markdown",
   "id": "fb0eefdc",
   "metadata": {},
   "source": [
    "# done!!!!!!!!!!"
   ]
  },
  {
   "cell_type": "code",
   "execution_count": null,
   "id": "2044e97f",
   "metadata": {},
   "outputs": [],
   "source": []
  }
 ],
 "metadata": {
  "kernelspec": {
   "display_name": "Python 3",
   "language": "python",
   "name": "python3"
  },
  "language_info": {
   "codemirror_mode": {
    "name": "ipython",
    "version": 3
   },
   "file_extension": ".py",
   "mimetype": "text/x-python",
   "name": "python",
   "nbconvert_exporter": "python",
   "pygments_lexer": "ipython3",
   "version": "3.8.8"
  }
 },
 "nbformat": 4,
 "nbformat_minor": 5
}
