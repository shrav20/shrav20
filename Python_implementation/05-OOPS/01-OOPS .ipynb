{
 "cells": [
  {
   "cell_type": "code",
   "execution_count": 1,
   "id": "7c7c1ce8",
   "metadata": {},
   "outputs": [],
   "source": [
    "#oops concept!"
   ]
  },
  {
   "cell_type": "raw",
   "id": "f369bf06",
   "metadata": {},
   "source": [
    "For this lesson we will construct our knowledge of OOP in Python by building on the following topics:\n",
    "\n",
    ">Objects\n",
    ">Using the class keyword\n",
    ">Creating class attributes\n",
    ">Creating methods in a class\n",
    ">Learning about Inheritance\n",
    ">Learning about Polymorphism\n",
    ">Learning about Special Methods for classes"
   ]
  },
  {
   "cell_type": "markdown",
   "id": "0b834efc",
   "metadata": {},
   "source": [
    "### Objects:-\n",
    "In Python, everything is an object"
   ]
  },
  {
   "cell_type": "code",
   "execution_count": 2,
   "id": "a22b6163",
   "metadata": {},
   "outputs": [
    {
     "name": "stdout",
     "output_type": "stream",
     "text": [
      "<class 'list'>\n"
     ]
    }
   ],
   "source": [
    "print(type([]))"
   ]
  },
  {
   "cell_type": "code",
   "execution_count": 4,
   "id": "614704dd",
   "metadata": {},
   "outputs": [
    {
     "name": "stdout",
     "output_type": "stream",
     "text": [
      "<class 'dict'>\n"
     ]
    }
   ],
   "source": [
    "print(type({}))"
   ]
  },
  {
   "cell_type": "code",
   "execution_count": 7,
   "id": "549679e5",
   "metadata": {},
   "outputs": [],
   "source": [
    "#how to create our own object type \n",
    "#\"\"\"Using class keyword to create object of our own!\"\"\""
   ]
  },
  {
   "cell_type": "markdown",
   "id": "936a2bc3",
   "metadata": {},
   "source": [
    "###### class:-\n",
    "User defined objects are created using the class keyword. The class is a blueprint that defines the nature of a future object. From classes we can construct instances. An instance is a specific object created from a particular class. For example, above we created the object lst which was an instance of a list object."
   ]
  },
  {
   "cell_type": "code",
   "execution_count": 8,
   "id": "bbfe8ed7",
   "metadata": {},
   "outputs": [
    {
     "name": "stdout",
     "output_type": "stream",
     "text": [
      "<class '__main__.MyObject'>\n"
     ]
    }
   ],
   "source": [
    "#create your own object with keyword class\n",
    "class MyObject:\n",
    "    pass\n",
    "#instance of MyObject\n",
    "x=MyObject()\n",
    "print(type(x))\n",
    "    "
   ]
  },
  {
   "cell_type": "code",
   "execution_count": 10,
   "id": "22e8c7ac",
   "metadata": {},
   "outputs": [],
   "source": [
    "#An attribute is a characteristic of an object. A method is an operation we can perform with theobject"
   ]
  },
  {
   "cell_type": "markdown",
   "id": "29e338be",
   "metadata": {},
   "source": [
    "For example, we can create a class called Dog. An attribute of a dog may be its breed or its name, while a method of a dog may be defined by a .bark() method which returns a sound"
   ]
  },
  {
   "cell_type": "markdown",
   "id": "e0a7aa5e",
   "metadata": {},
   "source": [
    "#### Attributes\n",
    "The syntax for creating an attribute is:\n",
    "\n",
    "        self.attribute = something\n",
    "There is a special method called:\n",
    "\n",
    "         __init__()\n",
    "This method is used to initialize the attributes of an object. for eg:-"
   ]
  },
  {
   "cell_type": "markdown",
   "id": "f51d7cb6",
   "metadata": {},
   "source": [
    "class Dog:\n",
    "    def __init__(self,breed):\n",
    "        self.breed=breed\n",
    "\n",
    "x=Dog(breed=\"Stray\")"
   ]
  },
  {
   "cell_type": "markdown",
   "id": "4f789920",
   "metadata": {},
   "source": [
    "Lets break down what we have above.The special method \n",
    "\n",
    "    __init__() \n",
    "is called automatically right after the object has been created:\n",
    "\n",
    "    def __init__(self, breed):\n",
    "Each attribute in a class definition begins with a *reference* to the instance object. It is by convention named self. The breed is the argument. The value is passed during the class instantiation.\n",
    "\n",
    "     self.breed = breed"
   ]
  },
  {
   "cell_type": "code",
   "execution_count": 15,
   "id": "e1777a64",
   "metadata": {},
   "outputs": [
    {
     "data": {
      "text/plain": [
       "'Stray'"
      ]
     },
     "execution_count": 15,
     "metadata": {},
     "output_type": "execute_result"
    }
   ],
   "source": [
    "x.breed"
   ]
  },
  {
   "cell_type": "markdown",
   "id": "471fef43",
   "metadata": {},
   "source": [
    "Note how we don't have any parentheses after breed; this is because it is an attribute and doesn't take any arguments."
   ]
  },
  {
   "cell_type": "code",
   "execution_count": 16,
   "id": "25d44750",
   "metadata": {},
   "outputs": [],
   "source": [
    "class dog:\n",
    "    #class object attribute\n",
    "    species='mammal'\n",
    "    \n",
    "    def __init__(self,breed,name):\n",
    "        self.breed=breed\n",
    "        self.name=name"
   ]
  },
  {
   "cell_type": "code",
   "execution_count": 18,
   "id": "37fd2468",
   "metadata": {},
   "outputs": [],
   "source": [
    "chetak=dog(\"bulldog\",\"chetu\")"
   ]
  },
  {
   "cell_type": "code",
   "execution_count": 19,
   "id": "89b2d376",
   "metadata": {},
   "outputs": [
    {
     "data": {
      "text/plain": [
       "'chetu'"
      ]
     },
     "execution_count": 19,
     "metadata": {},
     "output_type": "execute_result"
    }
   ],
   "source": [
    "chetak.name"
   ]
  },
  {
   "cell_type": "code",
   "execution_count": 21,
   "id": "73a9c627",
   "metadata": {},
   "outputs": [
    {
     "data": {
      "text/plain": [
       "'mammal'"
      ]
     },
     "execution_count": 21,
     "metadata": {},
     "output_type": "execute_result"
    }
   ],
   "source": [
    "chetak.species"
   ]
  },
  {
   "cell_type": "markdown",
   "id": "64d033f4",
   "metadata": {},
   "source": [
    "### Methods:-\n",
    "\n",
    "Methods are functions defined inside the body of a class. They are used to perform operations with the attributes of our objects. Methods are a key concept of the OOP paradigm. They are essential to dividing responsibilities in programming, especially in large applications.\n",
    "\n",
    "\n",
    "You can basically think of methods as functions acting on an Object that take the Object itself into account through its *self* argument."
   ]
  },
  {
   "cell_type": "code",
   "execution_count": 11,
   "id": "a65d7d13",
   "metadata": {},
   "outputs": [],
   "source": [
    "class Circle:\n",
    "    \n",
    "    pi=3.14 \n",
    "     #defined already\n",
    "     \n",
    "     #Circle gets instantiated with a radius \n",
    "    def __init__(self,radius=1):\n",
    "        self.radius=radius\n",
    "        self.area=Circle.pi*radius**2\n",
    "    \n",
    "    #method fpr resettin g radius\n",
    "    def setradius(self,new_rad):\n",
    "        self.radius=new_rad\n",
    "        self.area=self.pi*new_rad**2\n",
    "    \n",
    "    #method for getting circumference\n",
    "    def getcircumference(self):\n",
    "        return self.radius*self.pi*2\n",
    "        "
   ]
  },
  {
   "cell_type": "code",
   "execution_count": 12,
   "id": "148d5274",
   "metadata": {},
   "outputs": [],
   "source": [
    "c=Circle()"
   ]
  },
  {
   "cell_type": "code",
   "execution_count": 13,
   "id": "12accbc8",
   "metadata": {},
   "outputs": [
    {
     "data": {
      "text/plain": [
       "1"
      ]
     },
     "execution_count": 13,
     "metadata": {},
     "output_type": "execute_result"
    }
   ],
   "source": [
    "c.radius"
   ]
  },
  {
   "cell_type": "code",
   "execution_count": 14,
   "id": "fc8dd7a4",
   "metadata": {},
   "outputs": [],
   "source": [
    "c.setradius(5)"
   ]
  },
  {
   "cell_type": "code",
   "execution_count": 17,
   "id": "ad2e4bc5",
   "metadata": {},
   "outputs": [
    {
     "name": "stdout",
     "output_type": "stream",
     "text": [
      "new radius is 5\n"
     ]
    }
   ],
   "source": [
    "print(\"new radius is {}\".format(c.radius))"
   ]
  },
  {
   "cell_type": "code",
   "execution_count": 20,
   "id": "d20e383c",
   "metadata": {},
   "outputs": [
    {
     "name": "stdout",
     "output_type": "stream",
     "text": [
      "area is :  78.5\n"
     ]
    }
   ],
   "source": [
    "print('area is : ',c.area)  #here it takes new rad=5 as a radius"
   ]
  },
  {
   "cell_type": "markdown",
   "id": "490311f3",
   "metadata": {},
   "source": [
    "## Inheritance:-\n",
    "Inheritance is a way to form new classes using classes that have already been defined. The newly formed classes are called derived classes, the classes that we derive from are called base classes. Important benefits of inheritance are code reuse and reduction of complexity of a program. The derived classes (descendants) override or extend the functionality of base classes (ancestors)."
   ]
  },
  {
   "cell_type": "code",
   "execution_count": 26,
   "id": "b3bd790e",
   "metadata": {},
   "outputs": [],
   "source": [
    "class animal:\n",
    "    def __init__(self):\n",
    "        print(\"animal created\")\n",
    "    def whoamI(self):\n",
    "        print(\"I am an animal\")\n",
    "    def eat(self):\n",
    "        print(\"Eating\")\n",
    "\n",
    "class dog(animal):\n",
    "    def __init__(self):\n",
    "        animal.__init__(self)  #will print animal created\n",
    "        print(\"dog is created\")\n",
    "    \n",
    "    def whoamI(self):\n",
    "        print(\"Diog\")\n",
    "    def bark(self):\n",
    "        print(\"Woof\")"
   ]
  },
  {
   "cell_type": "code",
   "execution_count": 27,
   "id": "ed493a45",
   "metadata": {},
   "outputs": [
    {
     "name": "stdout",
     "output_type": "stream",
     "text": [
      "animal created\n",
      "dog is created\n"
     ]
    }
   ],
   "source": [
    "d=dog()"
   ]
  },
  {
   "cell_type": "code",
   "execution_count": 28,
   "id": "654ba286",
   "metadata": {},
   "outputs": [
    {
     "name": "stdout",
     "output_type": "stream",
     "text": [
      "Diog\n"
     ]
    }
   ],
   "source": [
    "d.whoamI()"
   ]
  },
  {
   "cell_type": "code",
   "execution_count": 30,
   "id": "e7f608f1",
   "metadata": {},
   "outputs": [
    {
     "name": "stdout",
     "output_type": "stream",
     "text": [
      "Eating\n"
     ]
    }
   ],
   "source": [
    "d.eat()  #the derived class inherits the functionality of base class"
   ]
  },
  {
   "cell_type": "code",
   "execution_count": 31,
   "id": "80198cea",
   "metadata": {},
   "outputs": [
    {
     "name": "stdout",
     "output_type": "stream",
     "text": [
      "Woof\n"
     ]
    }
   ],
   "source": [
    "d.bark()"
   ]
  },
  {
   "cell_type": "markdown",
   "id": "1f3d790a",
   "metadata": {},
   "source": [
    "In this example, we have two classes: Animal and Dog. The Animal is the base class, the Dog is the derived class. \n",
    "\n",
    "The derived class inherits the functionality of the base class. \n",
    "\n",
    "* It is shown by the eat() method. \n",
    "\n",
    "The derived class modifies existing behavior of the base class.\n",
    "\n",
    "* shown by the whoAmI() method. \n",
    "\n",
    "Finally, the derived class extends the functionality of the base class, by defining a new bark() method."
   ]
  },
  {
   "cell_type": "markdown",
   "id": "0c84a833",
   "metadata": {},
   "source": [
    "## Polymorphism:-\n",
    "In Python, polymorphism refers to the way in which different object classes can share the same method name, and those methods can be called from the same place even though a variety of different objects might be passed in. "
   ]
  },
  {
   "cell_type": "code",
   "execution_count": 37,
   "id": "0e362682",
   "metadata": {},
   "outputs": [
    {
     "name": "stdout",
     "output_type": "stream",
     "text": [
      "chetak says woof!\n"
     ]
    }
   ],
   "source": [
    "class dog:\n",
    "    def __init__(self,name):\n",
    "        self.name=name\n",
    "    def speak(self):\n",
    "        return self.name + ' says woof!'\n",
    "\n",
    "class cat:\n",
    "    def __init__(self,name):\n",
    "        self.name=name\n",
    "    def speak(self):\n",
    "        return self.name + ' says meow!'\n",
    "chetak=dog('chetak')\n",
    "manu=cat('manu')\n",
    "\n",
    "print(chetak.speak())"
   ]
  },
  {
   "cell_type": "code",
   "execution_count": 38,
   "id": "75221973",
   "metadata": {},
   "outputs": [
    {
     "name": "stdout",
     "output_type": "stream",
     "text": [
      "manu says meow!\n"
     ]
    }
   ],
   "source": [
    "print(manu.speak())"
   ]
  },
  {
   "cell_type": "markdown",
   "id": "9f5a12e7",
   "metadata": {},
   "source": [
    "Here we have a Dog class and a Cat class, and each has a `.speak()` method. When called, each object's `.speak()` method returns a result unique to the object.\n",
    "\n",
    "There a few different ways to demonstrate polymorphism. First, with a for loop:"
   ]
  },
  {
   "cell_type": "code",
   "execution_count": 39,
   "id": "6332df70",
   "metadata": {},
   "outputs": [
    {
     "name": "stdout",
     "output_type": "stream",
     "text": [
      "chetak says woof!\n",
      "manu says meow!\n"
     ]
    }
   ],
   "source": [
    "for pet in [chetak,manu]:\n",
    "    print(pet.speak())"
   ]
  },
  {
   "cell_type": "code",
   "execution_count": 40,
   "id": "87ccf42f",
   "metadata": {},
   "outputs": [
    {
     "name": "stdout",
     "output_type": "stream",
     "text": [
      "chetak says woof!\n",
      "manu says meow!\n"
     ]
    }
   ],
   "source": [
    "def pet_speak(pet):   #function created\n",
    "    print(pet.speak())\n",
    "\n",
    "pet_speak(chetak)\n",
    "pet_speak(manu)"
   ]
  },
  {
   "cell_type": "markdown",
   "id": "6183f0a1",
   "metadata": {},
   "source": [
    "In both cases we were able to pass in different object types, and we obtained object-specific results from the same mechanism.\n",
    "\n",
    "A more common practice is to use abstract classes and inheritance. An abstract class is one that never expects to be instantiated. For example, we will never have an Animal object, only Dog and Cat objects, although Dogs and Cats are derived from Animals:"
   ]
  },
  {
   "cell_type": "code",
   "execution_count": 41,
   "id": "5557065a",
   "metadata": {},
   "outputs": [
    {
     "name": "stdout",
     "output_type": "stream",
     "text": [
      "Fido says Woof!\n",
      "Isis says Meow!\n"
     ]
    }
   ],
   "source": [
    "class Animal:\n",
    "    def __init__(self, name):    # Constructor of the class\n",
    "        self.name = name\n",
    "\n",
    "    def speak(self):              # Abstract method, defined by convention only\n",
    "        raise NotImplementedError(\"Subclass must implement abstract method\")\n",
    "\n",
    "\n",
    "class Dog(Animal):\n",
    "    \n",
    "    def speak(self):\n",
    "        return self.name+' says Woof!'\n",
    "    \n",
    "class Cat(Animal):\n",
    "\n",
    "    def speak(self):\n",
    "        return self.name+' says Meow!'\n",
    "    \n",
    "fido = Dog('Fido')\n",
    "isis = Cat('Isis')\n",
    "\n",
    "print(fido.speak())\n",
    "print(isis.speak())"
   ]
  },
  {
   "cell_type": "markdown",
   "id": "cf1f1fa3",
   "metadata": {},
   "source": [
    "## Special methods :-\n"
   ]
  },
  {
   "cell_type": "code",
   "execution_count": 42,
   "id": "2cd27af4",
   "metadata": {},
   "outputs": [],
   "source": [
    "class Book:\n",
    "    def __init__(self, title, author, pages):\n",
    "        print(\"A book is created\")\n",
    "        self.title = title\n",
    "        self.author = author\n",
    "        self.pages = pages\n",
    "\n",
    "    def __str__(self):\n",
    "        return \"Title: %s, author: %s, pages: %s\" %(self.title, self.author, self.pages)\n",
    "\n",
    "    def __len__(self):\n",
    "        return self.pages\n",
    "\n",
    "    def __del__(self):\n",
    "        print(\"A book is destroyed\")"
   ]
  },
  {
   "cell_type": "code",
   "execution_count": 46,
   "id": "26f6a0d0",
   "metadata": {},
   "outputs": [
    {
     "name": "stdout",
     "output_type": "stream",
     "text": [
      "A book is created\n",
      "Title: Immortals of meluha, author: amit tripathi, pages: 587\n",
      "587\n",
      "A book is destroyed\n"
     ]
    }
   ],
   "source": [
    "book=Book(\"Immortals of meluha\",\"amit tripathi\",587)\n",
    " \n",
    "#special methods:-\n",
    "print(book)\n",
    "print(len(book))\n",
    "del book"
   ]
  },
  {
   "cell_type": "code",
   "execution_count": 47,
   "id": "266b387c",
   "metadata": {},
   "outputs": [
    {
     "ename": "NameError",
     "evalue": "name 'book' is not defined",
     "output_type": "error",
     "traceback": [
      "\u001b[1;31m---------------------------------------------------------------------------\u001b[0m",
      "\u001b[1;31mNameError\u001b[0m                                 Traceback (most recent call last)",
      "\u001b[1;32m<ipython-input-47-92f3aa8bac21>\u001b[0m in \u001b[0;36m<module>\u001b[1;34m\u001b[0m\n\u001b[1;32m----> 1\u001b[1;33m \u001b[0mbook\u001b[0m\u001b[1;33m\u001b[0m\u001b[1;33m\u001b[0m\u001b[0m\n\u001b[0m",
      "\u001b[1;31mNameError\u001b[0m: name 'book' is not defined"
     ]
    }
   ],
   "source": [
    "book  #as it was deleted in the del method"
   ]
  },
  {
   "cell_type": "code",
   "execution_count": null,
   "id": "75162447",
   "metadata": {},
   "outputs": [],
   "source": []
  }
 ],
 "metadata": {
  "kernelspec": {
   "display_name": "Python 3",
   "language": "python",
   "name": "python3"
  },
  "language_info": {
   "codemirror_mode": {
    "name": "ipython",
    "version": 3
   },
   "file_extension": ".py",
   "mimetype": "text/x-python",
   "name": "python",
   "nbconvert_exporter": "python",
   "pygments_lexer": "ipython3",
   "version": "3.8.8"
  }
 },
 "nbformat": 4,
 "nbformat_minor": 5
}
