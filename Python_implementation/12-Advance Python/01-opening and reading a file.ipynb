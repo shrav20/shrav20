{
 "cells": [
  {
   "cell_type": "code",
   "execution_count": 1,
   "id": "eed11992",
   "metadata": {},
   "outputs": [
    {
     "data": {
      "text/plain": [
       "'C:\\\\Users\\\\SHRAVANI\\\\python_udemy\\\\11-Advanced Python'"
      ]
     },
     "execution_count": 1,
     "metadata": {},
     "output_type": "execute_result"
    }
   ],
   "source": [
    "pwd"
   ]
  },
  {
   "cell_type": "code",
   "execution_count": 2,
   "id": "6d131642",
   "metadata": {},
   "outputs": [],
   "source": [
    "f=open('first.txt','w+')"
   ]
  },
  {
   "cell_type": "code",
   "execution_count": 3,
   "id": "f791ec00",
   "metadata": {},
   "outputs": [],
   "source": [
    "f.write(\"This is written by write command in pyhton\")\n",
    "f.close()"
   ]
  },
  {
   "cell_type": "markdown",
   "id": "241a8822",
   "metadata": {},
   "source": [
    "# os "
   ]
  },
  {
   "cell_type": "code",
   "execution_count": 4,
   "id": "aa16cc44",
   "metadata": {},
   "outputs": [],
   "source": [
    "import os"
   ]
  },
  {
   "cell_type": "code",
   "execution_count": 5,
   "id": "31e2c2fd",
   "metadata": {},
   "outputs": [
    {
     "data": {
      "text/plain": [
       "'C:\\\\Users\\\\SHRAVANI\\\\python_udemy\\\\11-Advanced Python'"
      ]
     },
     "execution_count": 5,
     "metadata": {},
     "output_type": "execute_result"
    }
   ],
   "source": [
    "os.getcwd()"
   ]
  },
  {
   "cell_type": "code",
   "execution_count": 8,
   "id": "c2702b6a",
   "metadata": {},
   "outputs": [
    {
     "data": {
      "text/plain": [
       "['.anaconda',\n",
       " '.cache',\n",
       " '.conda',\n",
       " '.condarc',\n",
       " '.continuum',\n",
       " '.idlerc',\n",
       " '.ipynb_checkpoints',\n",
       " '.ipython',\n",
       " '.jupyter',\n",
       " '.matplotlib',\n",
       " '.ms-ad',\n",
       " '.pylint.d',\n",
       " '.VirtualBox',\n",
       " '.vscode',\n",
       " '3D Objects',\n",
       " 'anaconda3',\n",
       " 'AppData',\n",
       " 'Application Data',\n",
       " 'BOOTCAMP',\n",
       " 'BullseyeCoverageError.txt',\n",
       " 'class_shau.py',\n",
       " 'Contacts',\n",
       " 'Cookies',\n",
       " 'DataScience',\n",
       " 'Day2 9th April.ipynb',\n",
       " 'def_shau.py',\n",
       " 'DLLs',\n",
       " 'Doc',\n",
       " 'Documents',\n",
       " 'Downloads',\n",
       " 'Favorites',\n",
       " 'Fees.jpg',\n",
       " 'gauravda_prblm.py',\n",
       " 'include',\n",
       " 'IntelGraphicsProfiles',\n",
       " 'Lib',\n",
       " 'libs',\n",
       " 'LICENSE.txt',\n",
       " 'Links',\n",
       " 'Local Settings',\n",
       " 'mom_prblm.py',\n",
       " 'Music',\n",
       " 'My Documents',\n",
       " 'MY_NUMPY',\n",
       " 'NetHood',\n",
       " 'NEWS.txt',\n",
       " 'NTUSER.DAT',\n",
       " 'ntuser.dat.LOG1',\n",
       " 'ntuser.dat.LOG2',\n",
       " 'NTUSER.DAT{a2332f18-cdbf-11ec-8680-002248483d79}.TM.blf',\n",
       " 'NTUSER.DAT{a2332f18-cdbf-11ec-8680-002248483d79}.TMContainer00000000000000000001.regtrans-ms',\n",
       " 'NTUSER.DAT{a2332f18-cdbf-11ec-8680-002248483d79}.TMContainer00000000000000000002.regtrans-ms',\n",
       " 'ntuser.ini',\n",
       " 'num-prblm.py',\n",
       " 'numpy1.ipynb',\n",
       " 'OneDrive',\n",
       " 'pandas_bootcamp_23rd_april.ipynb',\n",
       " 'PrintHood',\n",
       " 'PycharmProjects',\n",
       " 'Pyshau.py',\n",
       " 'python.exe',\n",
       " 'python3.dll',\n",
       " 'python39.dll',\n",
       " 'pythonw.exe',\n",
       " 'python_udemy',\n",
       " 'Qrcode.ipynb',\n",
       " 'Recent',\n",
       " 'Saved Games',\n",
       " 'Scripts',\n",
       " 'Searches',\n",
       " 'Seminar',\n",
       " 'SendTo',\n",
       " 'share',\n",
       " 'Start Menu',\n",
       " 'task4.ipynb',\n",
       " 'tcl',\n",
       " 'techedu.png',\n",
       " 'techedu.svg',\n",
       " 'tech_qr.jpg',\n",
       " 'Templates',\n",
       " 'Tools',\n",
       " 'Tracing',\n",
       " 'vcruntime140.dll',\n",
       " 'vcruntime140_1.dll',\n",
       " 'Videos',\n",
       " 'VirtualBox VMs']"
      ]
     },
     "execution_count": 8,
     "metadata": {},
     "output_type": "execute_result"
    }
   ],
   "source": [
    "os.listdir(\"C:\\\\Users\\\\SHRAVANI\")"
   ]
  },
  {
   "cell_type": "markdown",
   "id": "65dbde78",
   "metadata": {},
   "source": [
    "## Moving files"
   ]
  },
  {
   "cell_type": "code",
   "execution_count": 9,
   "id": "4c6028f7",
   "metadata": {},
   "outputs": [],
   "source": [
    "import shutil"
   ]
  },
  {
   "cell_type": "code",
   "execution_count": 10,
   "id": "d44a2143",
   "metadata": {},
   "outputs": [
    {
     "data": {
      "text/plain": [
       "'C:\\\\Users\\\\SHRAVANI\\\\python_udemy\\\\first.txt'"
      ]
     },
     "execution_count": 10,
     "metadata": {},
     "output_type": "execute_result"
    }
   ],
   "source": [
    "shutil.move('first.txt',\"C:\\\\Users\\\\SHRAVANI\\\\python_udemy\")"
   ]
  },
  {
   "cell_type": "code",
   "execution_count": 13,
   "id": "f70f9121",
   "metadata": {},
   "outputs": [
    {
     "data": {
      "text/plain": [
       "['.ipynb_checkpoints',\n",
       " '0-basics',\n",
       " '01-Comaprison Operators',\n",
       " '02-Python Statement',\n",
       " '03-Methods And Function',\n",
       " '04-mini project',\n",
       " '05-OOPs in python',\n",
       " '06-Modules and Packages',\n",
       " '07-Error and Exception handling',\n",
       " '08-Project 2',\n",
       " '09-Python decorators',\n",
       " '10-python generator',\n",
       " '11-Advanced Python',\n",
       " 'first.txt',\n",
       " 'Uppercase_lowercase_question.ipynb']"
      ]
     },
     "execution_count": 13,
     "metadata": {},
     "output_type": "execute_result"
    }
   ],
   "source": [
    "os.listdir(\"C:\\\\Users\\\\SHRAVANI\\\\python_udemy\")"
   ]
  },
  {
   "cell_type": "code",
   "execution_count": 17,
   "id": "aa27d546",
   "metadata": {},
   "outputs": [
    {
     "data": {
      "text/plain": [
       "'C:\\\\Users\\\\SHRAVANI\\\\python_udemy\\\\11-Advanced Python\\\\first.txt'"
      ]
     },
     "execution_count": 17,
     "metadata": {},
     "output_type": "execute_result"
    }
   ],
   "source": [
    "shutil.move(\"C:\\\\Users\\\\SHRAVANI\\\\python_udemy\\\\first.txt\",os.getcwd())"
   ]
  },
  {
   "cell_type": "code",
   "execution_count": 18,
   "id": "3f5d27b8",
   "metadata": {},
   "outputs": [],
   "source": [
    "#delete files"
   ]
  },
  {
   "cell_type": "code",
   "execution_count": 19,
   "id": "b9cc4c9c",
   "metadata": {},
   "outputs": [],
   "source": [
    "import send2trash"
   ]
  },
  {
   "cell_type": "code",
   "execution_count": 20,
   "id": "3af6791e",
   "metadata": {},
   "outputs": [
    {
     "data": {
      "text/plain": [
       "['.ipynb_checkpoints',\n",
       " '00-Collections module.ipynb',\n",
       " '01-opening and reading a file.ipynb',\n",
       " 'first.txt']"
      ]
     },
     "execution_count": 20,
     "metadata": {},
     "output_type": "execute_result"
    }
   ],
   "source": [
    "os.listdir()"
   ]
  },
  {
   "cell_type": "code",
   "execution_count": 21,
   "id": "6fa9659d",
   "metadata": {},
   "outputs": [],
   "source": [
    "send2trash.send2trash('first.txt')"
   ]
  },
  {
   "cell_type": "code",
   "execution_count": 22,
   "id": "0116befc",
   "metadata": {},
   "outputs": [
    {
     "data": {
      "text/plain": [
       "['.ipynb_checkpoints',\n",
       " '00-Collections module.ipynb',\n",
       " '01-opening and reading a file.ipynb']"
      ]
     },
     "execution_count": 22,
     "metadata": {},
     "output_type": "execute_result"
    }
   ],
   "source": [
    "os.listdir()"
   ]
  },
  {
   "cell_type": "code",
   "execution_count": null,
   "id": "46dcaff8",
   "metadata": {},
   "outputs": [],
   "source": []
  }
 ],
 "metadata": {
  "kernelspec": {
   "display_name": "Python 3",
   "language": "python",
   "name": "python3"
  },
  "language_info": {
   "codemirror_mode": {
    "name": "ipython",
    "version": 3
   },
   "file_extension": ".py",
   "mimetype": "text/x-python",
   "name": "python",
   "nbconvert_exporter": "python",
   "pygments_lexer": "ipython3",
   "version": "3.8.8"
  }
 },
 "nbformat": 4,
 "nbformat_minor": 5
}
