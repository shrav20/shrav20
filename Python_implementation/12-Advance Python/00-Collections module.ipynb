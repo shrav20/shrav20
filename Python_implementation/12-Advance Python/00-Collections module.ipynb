{
 "cells": [
  {
   "cell_type": "markdown",
   "id": "4b402c61",
   "metadata": {},
   "source": [
    "## Counter"
   ]
  },
  {
   "cell_type": "code",
   "execution_count": 2,
   "id": "07ee1905",
   "metadata": {},
   "outputs": [],
   "source": [
    "from collections import Counter"
   ]
  },
  {
   "cell_type": "code",
   "execution_count": 4,
   "id": "954e16e4",
   "metadata": {},
   "outputs": [],
   "source": [
    "mylist=[8,2,3,4,44,4,222,1,3,3,4,56,7,8,9,6,66,5,5,4,'list',4]"
   ]
  },
  {
   "cell_type": "code",
   "execution_count": 5,
   "id": "d0d188d0",
   "metadata": {},
   "outputs": [
    {
     "data": {
      "text/plain": [
       "Counter({8: 2,\n",
       "         2: 1,\n",
       "         3: 3,\n",
       "         4: 5,\n",
       "         44: 1,\n",
       "         222: 1,\n",
       "         1: 1,\n",
       "         56: 1,\n",
       "         7: 1,\n",
       "         9: 1,\n",
       "         6: 1,\n",
       "         66: 1,\n",
       "         5: 2,\n",
       "         'list': 1})"
      ]
     },
     "execution_count": 5,
     "metadata": {},
     "output_type": "execute_result"
    }
   ],
   "source": [
    "Counter(mylist)"
   ]
  },
  {
   "cell_type": "code",
   "execution_count": 7,
   "id": "d4869c18",
   "metadata": {},
   "outputs": [
    {
     "data": {
      "text/plain": [
       "Counter({'S': 1,\n",
       "         'H': 1,\n",
       "         'r': 1,\n",
       "         'a': 5,\n",
       "         'v': 2,\n",
       "         'n': 2,\n",
       "         'i': 2,\n",
       "         ' ': 2,\n",
       "         'V': 1,\n",
       "         'l': 1,\n",
       "         's': 1,\n",
       "         'C': 1,\n",
       "         'h': 1})"
      ]
     },
     "execution_count": 7,
     "metadata": {},
     "output_type": "execute_result"
    }
   ],
   "source": [
    "Counter(\"SHravani Vilas Chavan\")"
   ]
  },
  {
   "cell_type": "code",
   "execution_count": 11,
   "id": "95f1d73c",
   "metadata": {},
   "outputs": [],
   "source": [
    "#or \n",
    "string=\"Shravani Vilas Chavan\"\n",
    "c=Counter(string.split())"
   ]
  },
  {
   "cell_type": "code",
   "execution_count": 12,
   "id": "c6f4bfc3",
   "metadata": {},
   "outputs": [
    {
     "data": {
      "text/plain": [
       "Counter({'Shravani': 1, 'Vilas': 1, 'Chavan': 1})"
      ]
     },
     "execution_count": 12,
     "metadata": {},
     "output_type": "execute_result"
    }
   ],
   "source": [
    "c"
   ]
  },
  {
   "cell_type": "code",
   "execution_count": 20,
   "id": "efdc79f2",
   "metadata": {},
   "outputs": [],
   "source": [
    "c.update([1,2,3333,3333,45,677])"
   ]
  },
  {
   "cell_type": "code",
   "execution_count": 21,
   "id": "fa805978",
   "metadata": {},
   "outputs": [
    {
     "data": {
      "text/plain": [
       "Counter({'Shravani': 1,\n",
       "         'Vilas': 2,\n",
       "         'Chavan': 1,\n",
       "         'V': 1,\n",
       "         'i': 1,\n",
       "         'l': 1,\n",
       "         'a': 1,\n",
       "         's': 1,\n",
       "         1: 1,\n",
       "         2: 1,\n",
       "         3333: 2,\n",
       "         45: 1,\n",
       "         677: 1})"
      ]
     },
     "execution_count": 21,
     "metadata": {},
     "output_type": "execute_result"
    }
   ],
   "source": [
    "c"
   ]
  },
  {
   "cell_type": "code",
   "execution_count": 23,
   "id": "191a9452",
   "metadata": {},
   "outputs": [
    {
     "data": {
      "text/plain": [
       "[('Vilas', 2), (3333, 2), ('Shravani', 1)]"
      ]
     },
     "execution_count": 23,
     "metadata": {},
     "output_type": "execute_result"
    }
   ],
   "source": [
    "c.most_common(3)"
   ]
  },
  {
   "cell_type": "code",
   "execution_count": 24,
   "id": "10a98926",
   "metadata": {},
   "outputs": [],
   "source": [
    "c.clear()"
   ]
  },
  {
   "cell_type": "code",
   "execution_count": 25,
   "id": "b7d88056",
   "metadata": {},
   "outputs": [
    {
     "data": {
      "text/plain": [
       "Counter()"
      ]
     },
     "execution_count": 25,
     "metadata": {},
     "output_type": "execute_result"
    }
   ],
   "source": [
    "c"
   ]
  },
  {
   "cell_type": "markdown",
   "id": "179ac1d4",
   "metadata": {},
   "source": [
    "## Defaultdict"
   ]
  },
  {
   "cell_type": "code",
   "execution_count": 26,
   "id": "6f6c2d7d",
   "metadata": {},
   "outputs": [],
   "source": [
    "from collections import defaultdict"
   ]
  },
  {
   "cell_type": "code",
   "execution_count": 27,
   "id": "28bc3e2a",
   "metadata": {},
   "outputs": [],
   "source": [
    "d={}"
   ]
  },
  {
   "cell_type": "code",
   "execution_count": 29,
   "id": "bfce0afe",
   "metadata": {},
   "outputs": [
    {
     "ename": "KeyError",
     "evalue": "'one'",
     "output_type": "error",
     "traceback": [
      "\u001b[1;31m---------------------------------------------------------------------------\u001b[0m",
      "\u001b[1;31mKeyError\u001b[0m                                  Traceback (most recent call last)",
      "\u001b[1;32m<ipython-input-29-195257aa2718>\u001b[0m in \u001b[0;36m<module>\u001b[1;34m\u001b[0m\n\u001b[1;32m----> 1\u001b[1;33m \u001b[0md\u001b[0m\u001b[1;33m[\u001b[0m\u001b[1;34m'one'\u001b[0m\u001b[1;33m]\u001b[0m\u001b[1;33m\u001b[0m\u001b[1;33m\u001b[0m\u001b[0m\n\u001b[0m",
      "\u001b[1;31mKeyError\u001b[0m: 'one'"
     ]
    }
   ],
   "source": [
    "d['one']"
   ]
  },
  {
   "cell_type": "code",
   "execution_count": 30,
   "id": "b368f9fc",
   "metadata": {},
   "outputs": [],
   "source": [
    "d=defaultdict(object)"
   ]
  },
  {
   "cell_type": "code",
   "execution_count": 31,
   "id": "0ae77d3d",
   "metadata": {},
   "outputs": [
    {
     "data": {
      "text/plain": [
       "<object at 0x19627a0e520>"
      ]
     },
     "execution_count": 31,
     "metadata": {},
     "output_type": "execute_result"
    }
   ],
   "source": [
    "d['three']"
   ]
  },
  {
   "cell_type": "code",
   "execution_count": 34,
   "id": "c3ae3c3a",
   "metadata": {},
   "outputs": [],
   "source": [
    "d=defaultdict(lambda:1)"
   ]
  },
  {
   "cell_type": "code",
   "execution_count": 35,
   "id": "7c0450fc",
   "metadata": {},
   "outputs": [
    {
     "data": {
      "text/plain": [
       "1"
      ]
     },
     "execution_count": 35,
     "metadata": {},
     "output_type": "execute_result"
    }
   ],
   "source": [
    "d['three']"
   ]
  },
  {
   "cell_type": "markdown",
   "id": "a8d06274",
   "metadata": {},
   "source": [
    "# namedtuple\n",
    "The standard tuple uses numerical indexes to access its members, for example:"
   ]
  },
  {
   "cell_type": "code",
   "execution_count": 36,
   "id": "40e27efc",
   "metadata": {},
   "outputs": [],
   "source": [
    "from collections import namedtuple"
   ]
  },
  {
   "cell_type": "code",
   "execution_count": 37,
   "id": "eb0a981c",
   "metadata": {},
   "outputs": [],
   "source": [
    "Dog = namedtuple('Dog',['age','breed','name'])\n",
    "\n",
    "sam = Dog(age=2,breed='Lab',name='Sammy')\n",
    "\n",
    "frank = Dog(age=2,breed='Shepard',name=\"Frankie\")"
   ]
  },
  {
   "cell_type": "code",
   "execution_count": 38,
   "id": "9d43abd4",
   "metadata": {},
   "outputs": [
    {
     "data": {
      "text/plain": [
       "Dog(age=2, breed='Shepard', name='Frankie')"
      ]
     },
     "execution_count": 38,
     "metadata": {},
     "output_type": "execute_result"
    }
   ],
   "source": [
    "frank"
   ]
  },
  {
   "cell_type": "code",
   "execution_count": 39,
   "id": "23755514",
   "metadata": {},
   "outputs": [
    {
     "data": {
      "text/plain": [
       "Dog(age=2, breed='Lab', name='Sammy')"
      ]
     },
     "execution_count": 39,
     "metadata": {},
     "output_type": "execute_result"
    }
   ],
   "source": [
    "sam"
   ]
  },
  {
   "cell_type": "code",
   "execution_count": 49,
   "id": "c54e5ad2",
   "metadata": {},
   "outputs": [
    {
     "data": {
      "text/plain": [
       "'Lab'"
      ]
     },
     "execution_count": 49,
     "metadata": {},
     "output_type": "execute_result"
    }
   ],
   "source": [
    "sam.breed"
   ]
  },
  {
   "cell_type": "code",
   "execution_count": null,
   "id": "b34639f5",
   "metadata": {},
   "outputs": [],
   "source": []
  }
 ],
 "metadata": {
  "kernelspec": {
   "display_name": "Python 3",
   "language": "python",
   "name": "python3"
  },
  "language_info": {
   "codemirror_mode": {
    "name": "ipython",
    "version": 3
   },
   "file_extension": ".py",
   "mimetype": "text/x-python",
   "name": "python",
   "nbconvert_exporter": "python",
   "pygments_lexer": "ipython3",
   "version": "3.8.8"
  }
 },
 "nbformat": 4,
 "nbformat_minor": 5
}
