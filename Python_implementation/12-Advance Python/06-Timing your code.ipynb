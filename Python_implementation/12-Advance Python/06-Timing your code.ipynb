{
 "cells": [
  {
   "cell_type": "code",
   "execution_count": 1,
   "id": "8f668e13",
   "metadata": {},
   "outputs": [],
   "source": [
    "#write two functions with same output and then calculate\n",
    "#the time each function takes result the output "
   ]
  },
  {
   "cell_type": "code",
   "execution_count": 2,
   "id": "2d0dae6a",
   "metadata": {},
   "outputs": [],
   "source": [
    "def fun_one(n):\n",
    "    return [str(num) for num in range(n)]"
   ]
  },
  {
   "cell_type": "code",
   "execution_count": 3,
   "id": "6f5dc224",
   "metadata": {},
   "outputs": [
    {
     "data": {
      "text/plain": [
       "['0', '1', '2', '3', '4', '5', '6', '7', '8', '9']"
      ]
     },
     "execution_count": 3,
     "metadata": {},
     "output_type": "execute_result"
    }
   ],
   "source": [
    "fun_one(10)"
   ]
  },
  {
   "cell_type": "code",
   "execution_count": 4,
   "id": "d19f8741",
   "metadata": {},
   "outputs": [],
   "source": [
    "def fun_two(n):\n",
    "    return list(map(str,range(n)))"
   ]
  },
  {
   "cell_type": "code",
   "execution_count": 8,
   "id": "065ae79b",
   "metadata": {},
   "outputs": [
    {
     "data": {
      "text/plain": [
       "['0', '1', '2', '3', '4', '5', '6', '7', '8', '9']"
      ]
     },
     "execution_count": 8,
     "metadata": {},
     "output_type": "execute_result"
    }
   ],
   "source": [
    " fun_two(10)"
   ]
  },
  {
   "cell_type": "code",
   "execution_count": null,
   "id": "91913a96",
   "metadata": {},
   "outputs": [],
   "source": [
    "#Timing start and stop"
   ]
  },
  {
   "cell_type": "code",
   "execution_count": 9,
   "id": "36795142",
   "metadata": {},
   "outputs": [],
   "source": [
    "import time"
   ]
  },
  {
   "cell_type": "code",
   "execution_count": 10,
   "id": "c0c183fd",
   "metadata": {},
   "outputs": [],
   "source": [
    "start_time=time.time()\n",
    "result=fun_one(1000000)\n",
    "end_time=time.time()-start_time"
   ]
  },
  {
   "cell_type": "code",
   "execution_count": 11,
   "id": "c9fd25b6",
   "metadata": {},
   "outputs": [
    {
     "data": {
      "text/plain": [
       "0.44731664657592773"
      ]
     },
     "execution_count": 11,
     "metadata": {},
     "output_type": "execute_result"
    }
   ],
   "source": [
    "end_time"
   ]
  },
  {
   "cell_type": "code",
   "execution_count": 12,
   "id": "50b4050f",
   "metadata": {},
   "outputs": [],
   "source": [
    "# STEP 1: Get start time\n",
    "start_time = time.time()\n",
    "# Step 2: Run your code you want to time\n",
    "result = fun_two(1000000)\n",
    "# Step 3: Calculate total time elapsed\n",
    "end_time = time.time() - start_time"
   ]
  },
  {
   "cell_type": "code",
   "execution_count": 13,
   "id": "781e5b55",
   "metadata": {},
   "outputs": [
    {
     "data": {
      "text/plain": [
       "0.40061283111572266"
      ]
     },
     "execution_count": 13,
     "metadata": {},
     "output_type": "execute_result"
    }
   ],
   "source": [
    "end_time"
   ]
  },
  {
   "cell_type": "code",
   "execution_count": 14,
   "id": "f60497ae",
   "metadata": {},
   "outputs": [],
   "source": [
    "#Timeit module"
   ]
  },
  {
   "cell_type": "code",
   "execution_count": 15,
   "id": "9bc064fa",
   "metadata": {},
   "outputs": [],
   "source": [
    "import timeit"
   ]
  },
  {
   "cell_type": "markdown",
   "id": "db973d5e",
   "metadata": {},
   "source": [
    "The setup (anything that needs to be defined beforehand, such as def functions.)"
   ]
  },
  {
   "cell_type": "code",
   "execution_count": 16,
   "id": "f58c6fc1",
   "metadata": {},
   "outputs": [],
   "source": [
    "setup = '''\n",
    "def func_one(n):\n",
    "    return [str(num) for num in range(n)]\n",
    "'''"
   ]
  },
  {
   "cell_type": "code",
   "execution_count": 17,
   "id": "f5f8f818",
   "metadata": {},
   "outputs": [],
   "source": [
    "stmt = 'func_one(100)'"
   ]
  },
  {
   "cell_type": "code",
   "execution_count": 18,
   "id": "22b669fa",
   "metadata": {},
   "outputs": [
    {
     "data": {
      "text/plain": [
       "3.6330639999998766"
      ]
     },
     "execution_count": 18,
     "metadata": {},
     "output_type": "execute_result"
    }
   ],
   "source": [
    "timeit.timeit(stmt,setup,number=100000)"
   ]
  },
  {
   "cell_type": "markdown",
   "id": "8403b9bf",
   "metadata": {},
   "source": [
    "<hr>"
   ]
  },
  {
   "cell_type": "code",
   "execution_count": 21,
   "id": "036a3293",
   "metadata": {},
   "outputs": [],
   "source": [
    "setup2 = '''\n",
    "def func_two(n):\n",
    "    return list(map(str,range(n)))\n",
    "'''"
   ]
  },
  {
   "cell_type": "code",
   "execution_count": 22,
   "id": "f43098f8",
   "metadata": {},
   "outputs": [],
   "source": [
    "stmt2 = 'func_two(100)'"
   ]
  },
  {
   "cell_type": "code",
   "execution_count": 23,
   "id": "f27c9459",
   "metadata": {},
   "outputs": [
    {
     "data": {
      "text/plain": [
       "3.0082264000000123"
      ]
     },
     "execution_count": 23,
     "metadata": {},
     "output_type": "execute_result"
    }
   ],
   "source": [
    "timeit.timeit(stmt2,setup2,number=100000)"
   ]
  },
  {
   "cell_type": "code",
   "execution_count": 24,
   "id": "f70f281c",
   "metadata": {},
   "outputs": [
    {
     "data": {
      "text/plain": [
       "36.81150350000007"
      ]
     },
     "execution_count": 24,
     "metadata": {},
     "output_type": "execute_result"
    }
   ],
   "source": [
    "timeit.timeit(stmt,setup,number=1000000)"
   ]
  },
  {
   "cell_type": "code",
   "execution_count": 25,
   "id": "d1df5e46",
   "metadata": {},
   "outputs": [
    {
     "data": {
      "text/plain": [
       "30.2446367"
      ]
     },
     "execution_count": 25,
     "metadata": {},
     "output_type": "execute_result"
    }
   ],
   "source": [
    "timeit.timeit(stmt2,setup2,number=1000000)"
   ]
  },
  {
   "cell_type": "code",
   "execution_count": 26,
   "id": "74b0bba5",
   "metadata": {},
   "outputs": [],
   "source": [
    "#Timing your code with jupyter magic method"
   ]
  },
  {
   "cell_type": "code",
   "execution_count": 28,
   "id": "379497f8",
   "metadata": {},
   "outputs": [
    {
     "name": "stdout",
     "output_type": "stream",
     "text": [
      "37.9 µs ± 1.62 µs per loop (mean ± std. dev. of 7 runs, 10000 loops each)\n"
     ]
    }
   ],
   "source": [
    "%%timeit\n",
    "fun_one(100)"
   ]
  },
  {
   "cell_type": "code",
   "execution_count": 29,
   "id": "134db459",
   "metadata": {},
   "outputs": [
    {
     "name": "stdout",
     "output_type": "stream",
     "text": [
      "30 µs ± 580 ns per loop (mean ± std. dev. of 7 runs, 10000 loops each)\n"
     ]
    }
   ],
   "source": [
    "%%timeit\n",
    "fun_two(100)"
   ]
  },
  {
   "cell_type": "code",
   "execution_count": null,
   "id": "2d88f02d",
   "metadata": {},
   "outputs": [],
   "source": []
  }
 ],
 "metadata": {
  "kernelspec": {
   "display_name": "Python 3",
   "language": "python",
   "name": "python3"
  },
  "language_info": {
   "codemirror_mode": {
    "name": "ipython",
    "version": 3
   },
   "file_extension": ".py",
   "mimetype": "text/x-python",
   "name": "python",
   "nbconvert_exporter": "python",
   "pygments_lexer": "ipython3",
   "version": "3.8.8"
  }
 },
 "nbformat": 4,
 "nbformat_minor": 5
}
