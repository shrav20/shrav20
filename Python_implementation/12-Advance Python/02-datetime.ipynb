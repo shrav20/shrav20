{
 "cells": [
  {
   "cell_type": "code",
   "execution_count": 1,
   "id": "ef1652d5",
   "metadata": {},
   "outputs": [],
   "source": [
    "import datetime"
   ]
  },
  {
   "cell_type": "code",
   "execution_count": 3,
   "id": "69b25f46",
   "metadata": {},
   "outputs": [
    {
     "name": "stdout",
     "output_type": "stream",
     "text": [
      "02:03:58\n",
      "hour:  2\n",
      "minute:  3\n"
     ]
    }
   ],
   "source": [
    "t=datetime.time(2,3,58)\n",
    "print(t)\n",
    "print(\"hour: \",t.hour)\n",
    "print(\"minute: \",t.minute)      "
   ]
  },
  {
   "cell_type": "code",
   "execution_count": 4,
   "id": "6ddc2f5e",
   "metadata": {},
   "outputs": [
    {
     "name": "stdout",
     "output_type": "stream",
     "text": [
      "Earliest  : 00:00:00\n",
      "Latest    : 23:59:59.999999\n",
      "Resolution: 0:00:00.000001\n"
     ]
    }
   ],
   "source": [
    "print('Earliest  :', datetime.time.min)\n",
    "print('Latest    :', datetime.time.max)\n",
    "print('Resolution:', datetime.time.resolution)"
   ]
  },
  {
   "cell_type": "code",
   "execution_count": 5,
   "id": "1b91a9ad",
   "metadata": {},
   "outputs": [
    {
     "name": "stdout",
     "output_type": "stream",
     "text": [
      "2023-02-25\n",
      "ctime: Sat Feb 25 00:00:00 2023\n",
      "tuple: time.struct_time(tm_year=2023, tm_mon=2, tm_mday=25, tm_hour=0, tm_min=0, tm_sec=0, tm_wday=5, tm_yday=56, tm_isdst=-1)\n",
      "ordinal: 738576\n",
      "Year : 2023\n",
      "Month: 2\n",
      "Day  : 25\n"
     ]
    }
   ],
   "source": [
    "today = datetime.date.today()\n",
    "print(today)\n",
    "print('ctime:', today.ctime())\n",
    "print('tuple:', today.timetuple())\n",
    "print('ordinal:', today.toordinal())\n",
    "print('Year :', today.year)\n",
    "print('Month:', today.month)\n",
    "print('Day  :', today.day)"
   ]
  },
  {
   "cell_type": "code",
   "execution_count": 6,
   "id": "d1339726",
   "metadata": {},
   "outputs": [
    {
     "name": "stdout",
     "output_type": "stream",
     "text": [
      "Earliest  : 00:00:00\n",
      "Latest    : 23:59:59.999999\n",
      "Resolution: 0:00:00.000001\n"
     ]
    }
   ],
   "source": [
    "print('Earliest  :', datetime.time.min)\n",
    "print('Latest    :', datetime.time.max)\n",
    "print('Resolution:', datetime.time.resolution)"
   ]
  },
  {
   "cell_type": "code",
   "execution_count": 7,
   "id": "01262f26",
   "metadata": {},
   "outputs": [
    {
     "data": {
      "text/plain": [
       "datetime.date(2023, 2, 25)"
      ]
     },
     "execution_count": 7,
     "metadata": {},
     "output_type": "execute_result"
    }
   ],
   "source": [
    "datetime.date.today()"
   ]
  },
  {
   "cell_type": "code",
   "execution_count": 10,
   "id": "2d1381a7",
   "metadata": {},
   "outputs": [
    {
     "name": "stdout",
     "output_type": "stream",
     "text": [
      "d1: 2023-02-25\n",
      "d2: 2002-08-20\n"
     ]
    }
   ],
   "source": [
    "d1 = datetime.date(2023, 2, 25)\n",
    "print('d1:', d1)\n",
    "\n",
    "d2 = d1.replace(year=2002,month=8,day=20)\n",
    "print('d2:', d2)"
   ]
  },
  {
   "cell_type": "markdown",
   "id": "92ee376e",
   "metadata": {},
   "source": [
    "### Arithemetic"
   ]
  },
  {
   "cell_type": "code",
   "execution_count": 11,
   "id": "d29ebbac",
   "metadata": {},
   "outputs": [
    {
     "data": {
      "text/plain": [
       "datetime.timedelta(days=7494)"
      ]
     },
     "execution_count": 11,
     "metadata": {},
     "output_type": "execute_result"
    }
   ],
   "source": [
    "d1-d2"
   ]
  },
  {
   "cell_type": "code",
   "execution_count": null,
   "id": "f0420e30",
   "metadata": {},
   "outputs": [],
   "source": []
  }
 ],
 "metadata": {
  "kernelspec": {
   "display_name": "Python 3",
   "language": "python",
   "name": "python3"
  },
  "language_info": {
   "codemirror_mode": {
    "name": "ipython",
    "version": 3
   },
   "file_extension": ".py",
   "mimetype": "text/x-python",
   "name": "python",
   "nbconvert_exporter": "python",
   "pygments_lexer": "ipython3",
   "version": "3.8.8"
  }
 },
 "nbformat": 4,
 "nbformat_minor": 5
}
