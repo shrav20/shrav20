{
 "cells": [
  {
   "cell_type": "markdown",
   "id": "29129044",
   "metadata": {},
   "source": [
    "# useful operators\n",
    "## range"
   ]
  },
  {
   "cell_type": "markdown",
   "id": "26426ff8",
   "metadata": {},
   "source": [
    "Note that this is a <b>generator</b> function, so to actually get a list out of it, we need to cast it to a list with <b>list()</b>."
   ]
  },
  {
   "cell_type": "code",
   "execution_count": 1,
   "id": "72ad3943",
   "metadata": {},
   "outputs": [
    {
     "data": {
      "text/plain": [
       "[11, 12, 13, 14, 15, 16, 17, 18, 19]"
      ]
     },
     "execution_count": 1,
     "metadata": {},
     "output_type": "execute_result"
    }
   ],
   "source": [
    "list(range(11,20))"
   ]
  },
  {
   "cell_type": "code",
   "execution_count": 2,
   "id": "9bf1ca7e",
   "metadata": {},
   "outputs": [
    {
     "data": {
      "text/plain": [
       "[11, 17, 23, 29]"
      ]
     },
     "execution_count": 2,
     "metadata": {},
     "output_type": "execute_result"
    }
   ],
   "source": [
    "list(range(11,31,6))"
   ]
  },
  {
   "cell_type": "markdown",
   "id": "7569557d",
   "metadata": {},
   "source": [
    "## Enumerate"
   ]
  },
  {
   "cell_type": "code",
   "execution_count": 3,
   "id": "ec7f759e",
   "metadata": {},
   "outputs": [
    {
     "name": "stdout",
     "output_type": "stream",
     "text": [
      "At index 0 the letter is s\n",
      "At index 1 the letter is h\n",
      "At index 2 the letter is r\n",
      "At index 3 the letter is a\n",
      "At index 4 the letter is v\n"
     ]
    }
   ],
   "source": [
    "i_count=0\n",
    "for letter in'shrav':\n",
    "    print(\"At index {} the letter is {}\".format(i_count,letter))\n",
    "    i_count+=1"
   ]
  },
  {
   "cell_type": "code",
   "execution_count": 5,
   "id": "82c222d0",
   "metadata": {},
   "outputs": [
    {
     "name": "stdout",
     "output_type": "stream",
     "text": [
      "s is at 0 index\n",
      "h is at 1 index\n",
      "r is at 2 index\n",
      "a is at 3 index\n",
      "v is at 4 index\n"
     ]
    }
   ],
   "source": [
    "#enumerate function helps us to dirctly give the index position\n",
    "for i,letter in enumerate('shrav'):\n",
    "    print('{} is at {} index'.format(letter,i))"
   ]
  },
  {
   "cell_type": "markdown",
   "id": "c99e9b28",
   "metadata": {},
   "source": [
    "## zip\n",
    "it zips to lists and it is also a generator "
   ]
  },
  {
   "cell_type": "code",
   "execution_count": 6,
   "id": "8b474d9a",
   "metadata": {},
   "outputs": [
    {
     "data": {
      "text/plain": [
       "[(0, 's'),\n",
       " (1, 'h'),\n",
       " (2, 'r'),\n",
       " (3, 'a'),\n",
       " (4, 'v'),\n",
       " (5, 'a'),\n",
       " (6, 'n'),\n",
       " (7, 'i')]"
      ]
     },
     "execution_count": 6,
     "metadata": {},
     "output_type": "execute_result"
    }
   ],
   "source": [
    "#example of enumerate \n",
    "list(enumerate('shravani'))"
   ]
  },
  {
   "cell_type": "code",
   "execution_count": 7,
   "id": "63851002",
   "metadata": {},
   "outputs": [],
   "source": [
    "#One can use the zip() function to quickly create a list of tuples by \"zipping\" up together two lists."
   ]
  },
  {
   "cell_type": "code",
   "execution_count": 8,
   "id": "b32483b2",
   "metadata": {},
   "outputs": [],
   "source": [
    "mylist1=[20,17,30,4,14]\n",
    "mylist2=['Shrav','Vaish','Vaidehi','Aai','Baba']"
   ]
  },
  {
   "cell_type": "code",
   "execution_count": 10,
   "id": "4b3d8eff",
   "metadata": {},
   "outputs": [
    {
     "data": {
      "text/plain": [
       "<zip at 0x26f35469640>"
      ]
     },
     "execution_count": 10,
     "metadata": {},
     "output_type": "execute_result"
    }
   ],
   "source": [
    "zip(mylist1,mylist2) #indicates that it is also a generator"
   ]
  },
  {
   "cell_type": "code",
   "execution_count": 12,
   "id": "779528a5",
   "metadata": {},
   "outputs": [
    {
     "data": {
      "text/plain": [
       "[(20, 'Shrav'), (17, 'Vaish'), (30, 'Vaidehi'), (4, 'Aai'), (14, 'Baba')]"
      ]
     },
     "execution_count": 12,
     "metadata": {},
     "output_type": "execute_result"
    }
   ],
   "source": [
    "list(zip(mylist1,mylist2))"
   ]
  },
  {
   "cell_type": "code",
   "execution_count": 13,
   "id": "8aa55ce6",
   "metadata": {},
   "outputs": [
    {
     "name": "stdout",
     "output_type": "stream",
     "text": [
      " birthday of Shrav is on 20\n",
      " birthday of Vaish is on 17\n",
      " birthday of Vaidehi is on 30\n",
      " birthday of Aai is on 4\n",
      " birthday of Baba is on 14\n"
     ]
    }
   ],
   "source": [
    "for name,birthday in zip(mylist2,mylist1):\n",
    "    print(f' birthday of {name} is on {birthday}')"
   ]
  },
  {
   "cell_type": "markdown",
   "id": "db9f98fc",
   "metadata": {},
   "source": [
    "## In operator"
   ]
  },
  {
   "cell_type": "code",
   "execution_count": 15,
   "id": "1a79867a",
   "metadata": {},
   "outputs": [
    {
     "data": {
      "text/plain": [
       "True"
      ]
     },
     "execution_count": 15,
     "metadata": {},
     "output_type": "execute_result"
    }
   ],
   "source": [
    "'x' in ['x','y','h']"
   ]
  },
  {
   "cell_type": "code",
   "execution_count": 16,
   "id": "77bf78ae",
   "metadata": {},
   "outputs": [
    {
     "data": {
      "text/plain": [
       "False"
      ]
     },
     "execution_count": 16,
     "metadata": {},
     "output_type": "execute_result"
    }
   ],
   "source": [
    "11 in ['shrav',6,'hii']"
   ]
  },
  {
   "cell_type": "markdown",
   "id": "6431fb4d",
   "metadata": {},
   "source": [
    "## not in"
   ]
  },
  {
   "cell_type": "code",
   "execution_count": 17,
   "id": "1365bd7a",
   "metadata": {},
   "outputs": [
    {
     "data": {
      "text/plain": [
       "True"
      ]
     },
     "execution_count": 17,
     "metadata": {},
     "output_type": "execute_result"
    }
   ],
   "source": [
    "'x' not in [1,2,3]"
   ]
  },
  {
   "cell_type": "markdown",
   "id": "62f9d50a",
   "metadata": {},
   "source": [
    "## min and max function"
   ]
  },
  {
   "cell_type": "code",
   "execution_count": 18,
   "id": "e0e35177",
   "metadata": {},
   "outputs": [],
   "source": [
    "mylist = [10,20,30,40,100]"
   ]
  },
  {
   "cell_type": "code",
   "execution_count": 19,
   "id": "fc6145d7",
   "metadata": {},
   "outputs": [
    {
     "data": {
      "text/plain": [
       "10"
      ]
     },
     "execution_count": 19,
     "metadata": {},
     "output_type": "execute_result"
    }
   ],
   "source": [
    "min(mylist)"
   ]
  },
  {
   "cell_type": "code",
   "execution_count": 20,
   "id": "00430220",
   "metadata": {},
   "outputs": [
    {
     "data": {
      "text/plain": [
       "100"
      ]
     },
     "execution_count": 20,
     "metadata": {},
     "output_type": "execute_result"
    }
   ],
   "source": [
    "max(mylist)"
   ]
  },
  {
   "cell_type": "markdown",
   "id": "f56609e7",
   "metadata": {},
   "source": [
    "## random\n",
    "In python we have random library "
   ]
  },
  {
   "cell_type": "code",
   "execution_count": 21,
   "id": "67e5f2ff",
   "metadata": {},
   "outputs": [],
   "source": [
    "from random import shuffle\n",
    "shuffle(mylist)"
   ]
  },
  {
   "cell_type": "code",
   "execution_count": 22,
   "id": "a8898e43",
   "metadata": {},
   "outputs": [
    {
     "data": {
      "text/plain": [
       "[20, 40, 30, 100, 10]"
      ]
     },
     "execution_count": 22,
     "metadata": {},
     "output_type": "execute_result"
    }
   ],
   "source": [
    "mylist"
   ]
  },
  {
   "cell_type": "code",
   "execution_count": 24,
   "id": "678d88de",
   "metadata": {},
   "outputs": [],
   "source": [
    "from random import randint"
   ]
  },
  {
   "cell_type": "code",
   "execution_count": 25,
   "id": "dd370aef",
   "metadata": {},
   "outputs": [
    {
     "data": {
      "text/plain": [
       "40"
      ]
     },
     "execution_count": 25,
     "metadata": {},
     "output_type": "execute_result"
    }
   ],
   "source": [
    "#randint :- Return random integer in range [a, b], including both end points.\n",
    "randint(0,100)"
   ]
  },
  {
   "cell_type": "markdown",
   "id": "7d42044e",
   "metadata": {},
   "source": [
    "## Input"
   ]
  },
  {
   "cell_type": "code",
   "execution_count": 27,
   "id": "e4db02e8",
   "metadata": {},
   "outputs": [
    {
     "name": "stdout",
     "output_type": "stream",
     "text": [
      "Hi there Shravani\n"
     ]
    },
    {
     "data": {
      "text/plain": [
       "'Shravani'"
      ]
     },
     "execution_count": 27,
     "metadata": {},
     "output_type": "execute_result"
    }
   ],
   "source": [
    "input('Hi there ')"
   ]
  },
  {
   "cell_type": "code",
   "execution_count": 28,
   "id": "7c663038",
   "metadata": {},
   "outputs": [],
   "source": [
    "# in the blank space enter your input , then it will display the output"
   ]
  },
  {
   "cell_type": "code",
   "execution_count": 29,
   "id": "3bb8bfca",
   "metadata": {},
   "outputs": [
    {
     "ename": "KeyboardInterrupt",
     "evalue": "Interrupted by user",
     "output_type": "error",
     "traceback": [
      "\u001b[1;31m---------------------------------------------------------------------------\u001b[0m",
      "\u001b[1;31mKeyboardInterrupt\u001b[0m                         Traceback (most recent call last)",
      "\u001b[1;32m<ipython-input-29-a1eed5f998e6>\u001b[0m in \u001b[0;36m<module>\u001b[1;34m\u001b[0m\n\u001b[1;32m----> 1\u001b[1;33m \u001b[0minput\u001b[0m\u001b[1;33m(\u001b[0m\u001b[1;34m'ENter something'\u001b[0m\u001b[1;33m)\u001b[0m\u001b[1;33m\u001b[0m\u001b[1;33m\u001b[0m\u001b[0m\n\u001b[0m",
      "\u001b[1;32m~\\anaconda3\\lib\\site-packages\\ipykernel\\kernelbase.py\u001b[0m in \u001b[0;36mraw_input\u001b[1;34m(self, prompt)\u001b[0m\n\u001b[0;32m    858\u001b[0m                 \u001b[1;34m\"raw_input was called, but this frontend does not support input requests.\"\u001b[0m\u001b[1;33m\u001b[0m\u001b[1;33m\u001b[0m\u001b[0m\n\u001b[0;32m    859\u001b[0m             )\n\u001b[1;32m--> 860\u001b[1;33m         return self._input_request(str(prompt),\n\u001b[0m\u001b[0;32m    861\u001b[0m             \u001b[0mself\u001b[0m\u001b[1;33m.\u001b[0m\u001b[0m_parent_ident\u001b[0m\u001b[1;33m,\u001b[0m\u001b[1;33m\u001b[0m\u001b[1;33m\u001b[0m\u001b[0m\n\u001b[0;32m    862\u001b[0m             \u001b[0mself\u001b[0m\u001b[1;33m.\u001b[0m\u001b[0m_parent_header\u001b[0m\u001b[1;33m,\u001b[0m\u001b[1;33m\u001b[0m\u001b[1;33m\u001b[0m\u001b[0m\n",
      "\u001b[1;32m~\\anaconda3\\lib\\site-packages\\ipykernel\\kernelbase.py\u001b[0m in \u001b[0;36m_input_request\u001b[1;34m(self, prompt, ident, parent, password)\u001b[0m\n\u001b[0;32m    902\u001b[0m             \u001b[1;32mexcept\u001b[0m \u001b[0mKeyboardInterrupt\u001b[0m\u001b[1;33m:\u001b[0m\u001b[1;33m\u001b[0m\u001b[1;33m\u001b[0m\u001b[0m\n\u001b[0;32m    903\u001b[0m                 \u001b[1;31m# re-raise KeyboardInterrupt, to truncate traceback\u001b[0m\u001b[1;33m\u001b[0m\u001b[1;33m\u001b[0m\u001b[1;33m\u001b[0m\u001b[0m\n\u001b[1;32m--> 904\u001b[1;33m                 \u001b[1;32mraise\u001b[0m \u001b[0mKeyboardInterrupt\u001b[0m\u001b[1;33m(\u001b[0m\u001b[1;34m\"Interrupted by user\"\u001b[0m\u001b[1;33m)\u001b[0m \u001b[1;32mfrom\u001b[0m \u001b[1;32mNone\u001b[0m\u001b[1;33m\u001b[0m\u001b[1;33m\u001b[0m\u001b[0m\n\u001b[0m\u001b[0;32m    905\u001b[0m             \u001b[1;32mexcept\u001b[0m \u001b[0mException\u001b[0m \u001b[1;32mas\u001b[0m \u001b[0me\u001b[0m\u001b[1;33m:\u001b[0m\u001b[1;33m\u001b[0m\u001b[1;33m\u001b[0m\u001b[0m\n\u001b[0;32m    906\u001b[0m                 \u001b[0mself\u001b[0m\u001b[1;33m.\u001b[0m\u001b[0mlog\u001b[0m\u001b[1;33m.\u001b[0m\u001b[0mwarning\u001b[0m\u001b[1;33m(\u001b[0m\u001b[1;34m\"Invalid Message:\"\u001b[0m\u001b[1;33m,\u001b[0m \u001b[0mexc_info\u001b[0m\u001b[1;33m=\u001b[0m\u001b[1;32mTrue\u001b[0m\u001b[1;33m)\u001b[0m\u001b[1;33m\u001b[0m\u001b[1;33m\u001b[0m\u001b[0m\n",
      "\u001b[1;31mKeyboardInterrupt\u001b[0m: Interrupted by user"
     ]
    }
   ],
   "source": [
    "input('ENter something')"
   ]
  },
  {
   "cell_type": "code",
   "execution_count": null,
   "id": "1c45b171",
   "metadata": {},
   "outputs": [],
   "source": []
  }
 ],
 "metadata": {
  "kernelspec": {
   "display_name": "Python 3",
   "language": "python",
   "name": "python3"
  },
  "language_info": {
   "codemirror_mode": {
    "name": "ipython",
    "version": 3
   },
   "file_extension": ".py",
   "mimetype": "text/x-python",
   "name": "python",
   "nbconvert_exporter": "python",
   "pygments_lexer": "ipython3",
   "version": "3.8.8"
  }
 },
 "nbformat": 4,
 "nbformat_minor": 5
}
