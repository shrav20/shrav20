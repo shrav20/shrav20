{
 "cells": [
  {
   "cell_type": "markdown",
   "id": "4565a7a4",
   "metadata": {},
   "source": [
    "# While loop\n",
    " A while statement will repeatedly execute a single statement or group of statements as long as the condition is true."
   ]
  },
  {
   "cell_type": "code",
   "execution_count": 3,
   "id": "289c9e66",
   "metadata": {},
   "outputs": [
    {
     "name": "stdout",
     "output_type": "stream",
     "text": [
      "20 is my birthday\n",
      "we will decrement x by 1\n",
      "we will decrement x by 1\n",
      "we will decrement x by 1\n",
      "we will decrement x by 1\n",
      "we will decrement x by 1\n",
      "we will decrement x by 1\n",
      "we will decrement x by 1\n",
      "we will decrement x by 1\n",
      "it is 11th now\n"
     ]
    }
   ],
   "source": [
    "x=20\n",
    "while x>10:\n",
    "    if (x==20):\n",
    "        print(f'{x} is my birthday')\n",
    "    else:\n",
    "        if(x==11):\n",
    "            print(\"it is 11th now\")\n",
    "            break    #break is used here\n",
    "        print(\"we will decrement x by 1\")\n",
    "        \n",
    "    x-=1"
   ]
  },
  {
   "cell_type": "markdown",
   "id": "6e4c087f",
   "metadata": {},
   "source": [
    "## break,continue,pass\n",
    "break: Breaks out of the current closest enclosing loop.\n",
    "\n",
    "continue: Goes to the top of the closest enclosing loop.\n",
    "\n",
    "pass: Does nothing at all."
   ]
  },
  {
   "cell_type": "code",
   "execution_count": 7,
   "id": "8533b031",
   "metadata": {},
   "outputs": [
    {
     "name": "stdout",
     "output_type": "stream",
     "text": [
      "x is now 15\n",
      "x is still greater than 11\n",
      "not 12 , so continue\n",
      "x is now 14\n",
      "x is still greater than 11\n",
      "not 12 , so continue\n",
      "x is now 13\n",
      "x is still greater than 11\n",
      "Breaking because x==12\n"
     ]
    }
   ],
   "source": [
    "x=15\n",
    "while x >11:\n",
    "    print('x is now',x)\n",
    "    print('x is still greater than 11')\n",
    "    x-=1\n",
    "    if(x==12):\n",
    "        print('Breaking because x==12')\n",
    "        break\n",
    "    else:\n",
    "        print('not 12 , so continue')\n",
    "        continue\n",
    "    "
   ]
  },
  {
   "cell_type": "code",
   "execution_count": null,
   "id": "9cace16a",
   "metadata": {},
   "outputs": [],
   "source": [
    "#infinity loop \n",
    "while True:\n",
    "    print(\"I'm stuck in an infinte loop!\")"
   ]
  }
 ],
 "metadata": {
  "kernelspec": {
   "display_name": "Python 3",
   "language": "python",
   "name": "python3"
  },
  "language_info": {
   "codemirror_mode": {
    "name": "ipython",
    "version": 3
   },
   "file_extension": ".py",
   "mimetype": "text/x-python",
   "name": "python",
   "nbconvert_exporter": "python",
   "pygments_lexer": "ipython3",
   "version": "3.8.8"
  }
 },
 "nbformat": 4,
 "nbformat_minor": 5
}
