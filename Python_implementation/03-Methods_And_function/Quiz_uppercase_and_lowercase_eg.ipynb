{
 "cells": [
  {
   "cell_type": "code",
   "execution_count": 1,
   "id": "a80cb2a6",
   "metadata": {},
   "outputs": [],
   "source": [
    "def myfunc(a):\n",
    "    ans=''\n",
    "    i=1\n",
    "    for letter in (a):\n",
    "        if i%2==0:\n",
    "            ans+=letter.upper()\n",
    "        else:\n",
    "            ans+=letter.lower()\n",
    "        i+=1\n",
    "    return ans\n",
    "    #ans=a[0::2]==o.lower() + a[1::2]==e.upper()\n",
    "    #return ans"
   ]
  },
  {
   "cell_type": "code",
   "execution_count": 2,
   "id": "a62fae8d",
   "metadata": {},
   "outputs": [
    {
     "data": {
      "text/plain": [
       "'sHrAvAnI'"
      ]
     },
     "execution_count": 2,
     "metadata": {},
     "output_type": "execute_result"
    }
   ],
   "source": [
    "myfunc('Shravani')"
   ]
  },
  {
   "cell_type": "code",
   "execution_count": 23,
   "id": "f54ed664",
   "metadata": {},
   "outputs": [
    {
     "data": {
      "text/plain": [
       "5"
      ]
     },
     "execution_count": 23,
     "metadata": {},
     "output_type": "execute_result"
    }
   ],
   "source": [
    "a='shrav'\n",
    "len(a)"
   ]
  },
  {
   "cell_type": "code",
   "execution_count": null,
   "id": "3bfadba4",
   "metadata": {},
   "outputs": [],
   "source": []
  }
 ],
 "metadata": {
  "kernelspec": {
   "display_name": "Python 3",
   "language": "python",
   "name": "python3"
  },
  "language_info": {
   "codemirror_mode": {
    "name": "ipython",
    "version": 3
   },
   "file_extension": ".py",
   "mimetype": "text/x-python",
   "name": "python",
   "nbconvert_exporter": "python",
   "pygments_lexer": "ipython3",
   "version": "3.8.8"
  }
 },
 "nbformat": 4,
 "nbformat_minor": 5
}
