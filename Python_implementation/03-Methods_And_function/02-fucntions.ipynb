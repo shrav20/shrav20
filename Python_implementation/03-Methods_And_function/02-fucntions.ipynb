{
 "cells": [
  {
   "cell_type": "markdown",
   "id": "ba88830e",
   "metadata": {},
   "source": [
    "## What is a function?\n",
    "Formally, a function is a useful device that groups together a set of statements so they can be run more than once. They can also let us specify parameters that can serve as inputs to the functions."
   ]
  },
  {
   "cell_type": "markdown",
   "id": "d4efe9ae",
   "metadata": {},
   "source": [
    "### def keyword\n"
   ]
  },
  {
   "cell_type": "code",
   "execution_count": 2,
   "id": "c7f2ecd3",
   "metadata": {},
   "outputs": [],
   "source": [
    "def name_of_function(arg1,arg2):\n",
    "    \"\"\" thsi is a document string \"\"\"\n",
    "    #code which you want to execute"
   ]
  },
  {
   "cell_type": "code",
   "execution_count": 3,
   "id": "f45f5221",
   "metadata": {},
   "outputs": [],
   "source": [
    "def say_hi():\n",
    "    print(\"hihiiii\")"
   ]
  },
  {
   "cell_type": "code",
   "execution_count": 6,
   "id": "2d3d2445",
   "metadata": {},
   "outputs": [
    {
     "name": "stdout",
     "output_type": "stream",
     "text": [
      "hihiiii\n"
     ]
    }
   ],
   "source": [
    "#call a function using ()\n",
    "say_hi()"
   ]
  },
  {
   "cell_type": "code",
   "execution_count": 7,
   "id": "25f1b51d",
   "metadata": {},
   "outputs": [],
   "source": [
    "def my_f(name):\n",
    "    print(f\"hi {name} \")"
   ]
  },
  {
   "cell_type": "code",
   "execution_count": 8,
   "id": "c034f60a",
   "metadata": {},
   "outputs": [
    {
     "name": "stdout",
     "output_type": "stream",
     "text": [
      "hi Shrvani \n"
     ]
    }
   ],
   "source": [
    "my_f(\"Shrvani\")"
   ]
  },
  {
   "cell_type": "code",
   "execution_count": 9,
   "id": "6b8a51c7",
   "metadata": {},
   "outputs": [],
   "source": [
    "#use return :-\n",
    "def add_num(n1,n2):\n",
    "    return n1+n2"
   ]
  },
  {
   "cell_type": "code",
   "execution_count": 10,
   "id": "5c7d550f",
   "metadata": {},
   "outputs": [
    {
     "data": {
      "text/plain": [
       "92.3"
      ]
     },
     "execution_count": 10,
     "metadata": {},
     "output_type": "execute_result"
    }
   ],
   "source": [
    "add_num(90.3,2)"
   ]
  },
  {
   "cell_type": "code",
   "execution_count": 11,
   "id": "47ea9d72",
   "metadata": {},
   "outputs": [],
   "source": [
    "#can also save as a variable due to return \n",
    "result=add_num(34,45)"
   ]
  },
  {
   "cell_type": "code",
   "execution_count": 12,
   "id": "90585324",
   "metadata": {},
   "outputs": [
    {
     "name": "stdout",
     "output_type": "stream",
     "text": [
      "79\n"
     ]
    }
   ],
   "source": [
    "print(result)"
   ]
  },
  {
   "cell_type": "markdown",
   "id": "a443c088",
   "metadata": {},
   "source": [
    "### difference btwn return and print \n",
    "##### print doesn't let you save the o/p to variable while return function that"
   ]
  },
  {
   "cell_type": "markdown",
   "id": "5a4659f8",
   "metadata": {},
   "source": [
    "## check if any number in list is even"
   ]
  },
  {
   "cell_type": "code",
   "execution_count": 5,
   "id": "842d7b32",
   "metadata": {},
   "outputs": [],
   "source": [
    "def check_even(num_list):\n",
    "    for num in num_list:\n",
    "        if num%2==0:\n",
    "            return True\n",
    "        else:\n",
    "            pass"
   ]
  },
  {
   "cell_type": "code",
   "execution_count": 6,
   "id": "e94240b3",
   "metadata": {},
   "outputs": [
    {
     "data": {
      "text/plain": [
       "True"
      ]
     },
     "execution_count": 6,
     "metadata": {},
     "output_type": "execute_result"
    }
   ],
   "source": [
    "check_even([90,3,4])"
   ]
  },
  {
   "cell_type": "code",
   "execution_count": 7,
   "id": "ed7b3d38",
   "metadata": {},
   "outputs": [
    {
     "data": {
      "text/plain": [
       "True"
      ]
     },
     "execution_count": 7,
     "metadata": {},
     "output_type": "execute_result"
    }
   ],
   "source": [
    "check_even([1,2,3])"
   ]
  },
  {
   "cell_type": "code",
   "execution_count": 9,
   "id": "c2b4fe69",
   "metadata": {},
   "outputs": [],
   "source": [
    "#if no even number is present then\n",
    "def check_even(num_list):\n",
    "    for num in num_list:\n",
    "        if num%2==0:\n",
    "            return True\n",
    "        else:\n",
    "            pass\n",
    "    return False"
   ]
  },
  {
   "cell_type": "code",
   "execution_count": 10,
   "id": "caf0c246",
   "metadata": {},
   "outputs": [
    {
     "data": {
      "text/plain": [
       "False"
      ]
     },
     "execution_count": 10,
     "metadata": {},
     "output_type": "execute_result"
    }
   ],
   "source": [
    "check_even([1,11,33])"
   ]
  },
  {
   "cell_type": "code",
   "execution_count": 11,
   "id": "3742c3ba",
   "metadata": {},
   "outputs": [],
   "source": [
    "#make a list of all even numbers in the given list \n",
    "li1=[]\n",
    "def check_even(n_list):\n",
    "    for num in n_list:\n",
    "        if num%2==0:\n",
    "            li1.append(num)\n",
    "        else:\n",
    "            pass\n",
    "    return li1"
   ]
  },
  {
   "cell_type": "code",
   "execution_count": 12,
   "id": "d8dcb3ad",
   "metadata": {},
   "outputs": [
    {
     "data": {
      "text/plain": [
       "[90, 2]"
      ]
     },
     "execution_count": 12,
     "metadata": {},
     "output_type": "execute_result"
    }
   ],
   "source": [
    "check_even([90,2,3,5])"
   ]
  },
  {
   "cell_type": "markdown",
   "id": "bd6fbb37",
   "metadata": {},
   "source": [
    "## Tuple unpacking by functions"
   ]
  },
  {
   "cell_type": "code",
   "execution_count": 14,
   "id": "56aa3cab",
   "metadata": {},
   "outputs": [],
   "source": [
    "#lets make a function to check duration of studies for each subject by a student\n",
    "duration=[('m1',2),('dm',1),('os',2),('ds',4)]\n"
   ]
  },
  {
   "cell_type": "code",
   "execution_count": 15,
   "id": "e4e694c8",
   "metadata": {},
   "outputs": [],
   "source": [
    "#define a function which checks the highhest duration for a particular subject \n",
    "#and print the subject as well\n",
    "def check_time(duration):\n",
    "    max_time=0  #starting with 0 hours and then appending\n",
    "    sub=\"\"\n",
    "    \n",
    "    for subjects,time in duration:\n",
    "        if time>max_time:\n",
    "            max_time=time\n",
    "            sub=subjects\n",
    "        else:\n",
    "            pass\n",
    "    return(sub,max_time)\n",
    "    \n",
    "    "
   ]
  },
  {
   "cell_type": "code",
   "execution_count": 16,
   "id": "0a337eb9",
   "metadata": {},
   "outputs": [
    {
     "data": {
      "text/plain": [
       "('ds', 4)"
      ]
     },
     "execution_count": 16,
     "metadata": {},
     "output_type": "execute_result"
    }
   ],
   "source": [
    "check_time(duration)"
   ]
  },
  {
   "cell_type": "markdown",
   "id": "f8da3748",
   "metadata": {},
   "source": [
    "# interaction between functions"
   ]
  },
  {
   "cell_type": "code",
   "execution_count": 17,
   "id": "f645421f",
   "metadata": {},
   "outputs": [],
   "source": [
    "#create a game of guessing which cup contains the red ball"
   ]
  },
  {
   "cell_type": "code",
   "execution_count": 23,
   "id": "fc5c9b22",
   "metadata": {},
   "outputs": [],
   "source": [
    "from random import shuffle"
   ]
  },
  {
   "cell_type": "code",
   "execution_count": 24,
   "id": "de518206",
   "metadata": {},
   "outputs": [],
   "source": [
    "balls=['o',' ',' ']"
   ]
  },
  {
   "cell_type": "code",
   "execution_count": 25,
   "id": "14bed1fc",
   "metadata": {},
   "outputs": [],
   "source": [
    "#a function to shuffle the balls\n",
    "def shuffle_balls(balls):\n",
    "    shuffle(balls)\n",
    "    return balls\n",
    "    "
   ]
  },
  {
   "cell_type": "code",
   "execution_count": 26,
   "id": "d5cd9b36",
   "metadata": {},
   "outputs": [
    {
     "data": {
      "text/plain": [
       "['o', ' ', ' ']"
      ]
     },
     "execution_count": 26,
     "metadata": {},
     "output_type": "execute_result"
    }
   ],
   "source": [
    "balls"
   ]
  },
  {
   "cell_type": "code",
   "execution_count": 27,
   "id": "5a5d3fb6",
   "metadata": {},
   "outputs": [
    {
     "data": {
      "text/plain": [
       "[' ', ' ', 'o']"
      ]
     },
     "execution_count": 27,
     "metadata": {},
     "output_type": "execute_result"
    }
   ],
   "source": [
    "shuffle_balls(balls)"
   ]
  },
  {
   "cell_type": "code",
   "execution_count": 28,
   "id": "adfeb617",
   "metadata": {},
   "outputs": [],
   "source": [
    "#create a function to enter the users guess\n",
    "def user_guess():\n",
    "    guess=''\n",
    "    while guess not in ['0','1','2']:\n",
    "        guess=input(\"pick number :0,1,2 : \")\n",
    "    return int(guess)"
   ]
  },
  {
   "cell_type": "code",
   "execution_count": 29,
   "id": "21288028",
   "metadata": {},
   "outputs": [
    {
     "name": "stdout",
     "output_type": "stream",
     "text": [
      "pick number :0,1,2 : 5\n",
      "pick number :0,1,2 : 2\n"
     ]
    },
    {
     "data": {
      "text/plain": [
       "2"
      ]
     },
     "execution_count": 29,
     "metadata": {},
     "output_type": "execute_result"
    }
   ],
   "source": [
    "user_guess()"
   ]
  },
  {
   "cell_type": "code",
   "execution_count": 30,
   "id": "1dfbb051",
   "metadata": {},
   "outputs": [],
   "source": [
    "#now create a function to check if the user has guessed properly or not\n",
    "def final_check(balls,guess):\n",
    "    if balls[guess]=='o':\n",
    "        print('correct guess!')\n",
    "    else:\n",
    "        print('Oop wrong guess')\n",
    "        print(balls)\n",
    "    "
   ]
  },
  {
   "cell_type": "code",
   "execution_count": 33,
   "id": "57134545",
   "metadata": {},
   "outputs": [
    {
     "name": "stdout",
     "output_type": "stream",
     "text": [
      "pick number :0,1,2 : 0\n",
      "Oop wrong guess\n",
      "[' ', 'o', ' ']\n"
     ]
    }
   ],
   "source": [
    "#initial list\n",
    "balls=[' ','o',' ']\n",
    "#shuffle it\n",
    "mixed_balls=shuffle_balls(balls)\n",
    "#user guess\n",
    "guess=user_guess()\n",
    "#final output  put the shuffled list and user guess in final function\n",
    "final_check(mixed_balls,guess)"
   ]
  },
  {
   "cell_type": "code",
   "execution_count": null,
   "id": "51ec6fe8",
   "metadata": {},
   "outputs": [],
   "source": []
  }
 ],
 "metadata": {
  "kernelspec": {
   "display_name": "Python 3",
   "language": "python",
   "name": "python3"
  },
  "language_info": {
   "codemirror_mode": {
    "name": "ipython",
    "version": 3
   },
   "file_extension": ".py",
   "mimetype": "text/x-python",
   "name": "python",
   "nbconvert_exporter": "python",
   "pygments_lexer": "ipython3",
   "version": "3.8.8"
  }
 },
 "nbformat": 4,
 "nbformat_minor": 5
}
