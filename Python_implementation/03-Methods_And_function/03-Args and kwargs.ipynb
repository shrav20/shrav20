{
 "cells": [
  {
   "cell_type": "markdown",
   "id": "3d3b8de5",
   "metadata": {},
   "source": [
    "# `*args` and `**kwargs`"
   ]
  },
  {
   "cell_type": "code",
   "execution_count": 1,
   "id": "87f625c7",
   "metadata": {},
   "outputs": [
    {
     "data": {
      "text/plain": [
       "5.0"
      ]
     },
     "execution_count": 1,
     "metadata": {},
     "output_type": "execute_result"
    }
   ],
   "source": [
    "def myfunc(a,b):\n",
    "    return sum((a,b))*.05\n",
    "\n",
    "myfunc(40,60)"
   ]
  },
  {
   "cell_type": "markdown",
   "id": "63673782",
   "metadata": {},
   "source": [
    "## *args\n",
    "When a function parameter starts with an asterisk, it allows for an arbitrary number of arguments, and the function takes them in as a tuple of values"
   ]
  },
  {
   "cell_type": "code",
   "execution_count": 2,
   "id": "8dc4a7b4",
   "metadata": {},
   "outputs": [
    {
     "data": {
      "text/plain": [
       "6.0"
      ]
     },
     "execution_count": 2,
     "metadata": {},
     "output_type": "execute_result"
    }
   ],
   "source": [
    "def myfunc(*args):\n",
    "    return sum(args)*.05\n",
    "\n",
    "myfunc(40,60,20)"
   ]
  },
  {
   "cell_type": "code",
   "execution_count": 5,
   "id": "95ee0366",
   "metadata": {},
   "outputs": [
    {
     "data": {
      "text/plain": [
       "196"
      ]
     },
     "execution_count": 5,
     "metadata": {},
     "output_type": "execute_result"
    }
   ],
   "source": [
    "def sqr_func(*sq_root):\n",
    "    return sum(sq_root)**2\n",
    "sqr_func(12,2)"
   ]
  },
  {
   "cell_type": "markdown",
   "id": "53085ccd",
   "metadata": {},
   "source": [
    "## **kwargs\n",
    " Python offers a way to handle arbitrary numbers of keyworded arguments. Instead of creating a tuple of values, **kwargs builds a dictionary of key/value pairs."
   ]
  },
  {
   "cell_type": "code",
   "execution_count": 6,
   "id": "6f83839c",
   "metadata": {},
   "outputs": [
    {
     "name": "stdout",
     "output_type": "stream",
     "text": [
      "my current grade is A+\n"
     ]
    }
   ],
   "source": [
    "def myfunc(**kwargs):\n",
    "    if 'grade' in kwargs:\n",
    "        print(f\"my current grade is {kwargs['grade']}\")\n",
    "    else:\n",
    "        print(\"Grade is not valid\")\n",
    "myfunc(grade=\"A+\")"
   ]
  },
  {
   "cell_type": "code",
   "execution_count": 7,
   "id": "c612e77f",
   "metadata": {},
   "outputs": [
    {
     "name": "stdout",
     "output_type": "stream",
     "text": [
      "Grade is not valid\n"
     ]
    }
   ],
   "source": [
    "myfunc()"
   ]
  },
  {
   "cell_type": "markdown",
   "id": "38a9af48",
   "metadata": {},
   "source": [
    "## *args and **kwargs combined\n",
    "You can pass *args and **kwargs into the same function, but *args have to appear before **kwargs"
   ]
  },
  {
   "cell_type": "code",
   "execution_count": 11,
   "id": "1ca1f51c",
   "metadata": {},
   "outputs": [
    {
     "name": "stdout",
     "output_type": "stream",
     "text": [
      " i have these args shrav and vaish and vaidehi \n",
      " shrav's fav fruit is apple\n",
      " i dont like lichi juice\n"
     ]
    }
   ],
   "source": [
    "def myfunc(*args,**example):\n",
    "    if 'fruit' and 'juice' in example:\n",
    "        print(f\" i have these args {' and '.join(args)} \\n {args[0]}'s fav fruit is {example['fruit']}\")\n",
    "        print(f\" i dont like {example['juice']} juice\")\n",
    "    else:\n",
    "        pass\n",
    "\n",
    "myfunc('shrav','vaish','vaidehi',fruit='apple',juice='lichi')   "
   ]
  },
  {
   "cell_type": "code",
   "execution_count": 13,
   "id": "67d12469",
   "metadata": {},
   "outputs": [],
   "source": [
    "#Placing keyworded arguments ahead of positional arguments raises an exception:"
   ]
  },
  {
   "cell_type": "code",
   "execution_count": 14,
   "id": "a5c67620",
   "metadata": {},
   "outputs": [
    {
     "ename": "SyntaxError",
     "evalue": "positional argument follows keyword argument (<ipython-input-14-778ff07b0333>, line 1)",
     "output_type": "error",
     "traceback": [
      "\u001b[1;36m  File \u001b[1;32m\"<ipython-input-14-778ff07b0333>\"\u001b[1;36m, line \u001b[1;32m1\u001b[0m\n\u001b[1;33m    myfunc(fruit='apple',juice='lichi','shrav')\u001b[0m\n\u001b[1;37m                                       ^\u001b[0m\n\u001b[1;31mSyntaxError\u001b[0m\u001b[1;31m:\u001b[0m positional argument follows keyword argument\n"
     ]
    }
   ],
   "source": [
    "myfunc(fruit='apple',juice='lichi','shrav')"
   ]
  },
  {
   "cell_type": "code",
   "execution_count": null,
   "id": "659d2b52",
   "metadata": {},
   "outputs": [],
   "source": []
  }
 ],
 "metadata": {
  "kernelspec": {
   "display_name": "Python 3",
   "language": "python",
   "name": "python3"
  },
  "language_info": {
   "codemirror_mode": {
    "name": "ipython",
    "version": 3
   },
   "file_extension": ".py",
   "mimetype": "text/x-python",
   "name": "python",
   "nbconvert_exporter": "python",
   "pygments_lexer": "ipython3",
   "version": "3.8.8"
  }
 },
 "nbformat": 4,
 "nbformat_minor": 5
}
