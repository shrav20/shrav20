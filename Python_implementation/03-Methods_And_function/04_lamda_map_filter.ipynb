{
 "cells": [
  {
   "cell_type": "markdown",
   "id": "52e49b45",
   "metadata": {},
   "source": [
    "# Lambda_ expression ,map and filter"
   ]
  },
  {
   "cell_type": "markdown",
   "id": "784b8ee7",
   "metadata": {},
   "source": [
    "### map function \n",
    "#The map function allows you to \"map\" a function to an iterable object. "
   ]
  },
  {
   "cell_type": "code",
   "execution_count": 3,
   "id": "3bfa157e",
   "metadata": {},
   "outputs": [],
   "source": [
    "def sqr(num):\n",
    "    return num**2"
   ]
  },
  {
   "cell_type": "code",
   "execution_count": 4,
   "id": "6d790d49",
   "metadata": {},
   "outputs": [],
   "source": [
    "my_nums=[1,2,3,4,5]"
   ]
  },
  {
   "cell_type": "code",
   "execution_count": 5,
   "id": "d1a27caa",
   "metadata": {},
   "outputs": [
    {
     "data": {
      "text/plain": [
       "<map at 0x1abdec0fc10>"
      ]
     },
     "execution_count": 5,
     "metadata": {},
     "output_type": "execute_result"
    }
   ],
   "source": [
    "map(sqr,my_nums)"
   ]
  },
  {
   "cell_type": "code",
   "execution_count": 6,
   "id": "1d9ba46a",
   "metadata": {},
   "outputs": [
    {
     "data": {
      "text/plain": [
       "[1, 4, 9, 16, 25]"
      ]
     },
     "execution_count": 6,
     "metadata": {},
     "output_type": "execute_result"
    }
   ],
   "source": [
    "list(map(sqr,my_nums))"
   ]
  },
  {
   "cell_type": "code",
   "execution_count": 7,
   "id": "176be4be",
   "metadata": {},
   "outputs": [],
   "source": [
    "def check_len(mystring):\n",
    "    if len(mystring)%2==0:\n",
    "        return 'even'\n",
    "    else:\n",
    "        #if not even then return the first[index] of the string\n",
    "        return mystring[0]"
   ]
  },
  {
   "cell_type": "code",
   "execution_count": 8,
   "id": "5e6d06ed",
   "metadata": {},
   "outputs": [],
   "source": [
    "myeg=[\"aayesha\",\"shrav\",\"trupti\",\"poojad\"]"
   ]
  },
  {
   "cell_type": "code",
   "execution_count": 9,
   "id": "13896bbb",
   "metadata": {},
   "outputs": [
    {
     "data": {
      "text/plain": [
       "['a', 's', 'even', 'even']"
      ]
     },
     "execution_count": 9,
     "metadata": {},
     "output_type": "execute_result"
    }
   ],
   "source": [
    "list(map(check_len,myeg))"
   ]
  },
  {
   "cell_type": "code",
   "execution_count": null,
   "id": "89b8af63",
   "metadata": {},
   "outputs": [],
   "source": []
  }
 ],
 "metadata": {
  "kernelspec": {
   "display_name": "Python 3",
   "language": "python",
   "name": "python3"
  },
  "language_info": {
   "codemirror_mode": {
    "name": "ipython",
    "version": 3
   },
   "file_extension": ".py",
   "mimetype": "text/x-python",
   "name": "python",
   "nbconvert_exporter": "python",
   "pygments_lexer": "ipython3",
   "version": "3.8.8"
  }
 },
 "nbformat": 4,
 "nbformat_minor": 5
}
